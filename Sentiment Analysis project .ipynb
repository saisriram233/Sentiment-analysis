{
 "cells": [
  {
   "cell_type": "code",
   "execution_count": 1,
   "metadata": {
    "id": "BTTquE3yOOeC"
   },
   "outputs": [],
   "source": [
    "import pandas as pd\n",
    "import numpy as np\n",
    "\n",
    "train_data = pd.read_json(\"https://raw.githubusercontent.com/rpsoft/tad_course/main/reddit_sentiment_train.json\")\n",
    "\n",
    "validation_data = pd.read_json(\"https://raw.githubusercontent.com/rpsoft/tad_course/main/reddit_sentiment_validation.json\")\n",
    "\n",
    "test_data = pd.read_json(\"https://raw.githubusercontent.com/rpsoft/tad_course/main/reddit_sentiment_test.json\")"
   ]
  },
  {
   "cell_type": "code",
   "execution_count": 102,
   "metadata": {
    "colab": {
     "base_uri": "https://localhost:8080/",
     "height": 289
    },
    "id": "ycg2GfJDcKea",
    "outputId": "ca54f6b8-20f9-420a-d3bc-7d5902becd5c"
   },
   "outputs": [
    {
     "data": {
      "text/html": [
       "<div>\n",
       "<style scoped>\n",
       "    .dataframe tbody tr th:only-of-type {\n",
       "        vertical-align: middle;\n",
       "    }\n",
       "\n",
       "    .dataframe tbody tr th {\n",
       "        vertical-align: top;\n",
       "    }\n",
       "\n",
       "    .dataframe thead th {\n",
       "        text-align: right;\n",
       "    }\n",
       "</style>\n",
       "<table border=\"1\" class=\"dataframe\">\n",
       "  <thead>\n",
       "    <tr style=\"text-align: right;\">\n",
       "      <th></th>\n",
       "      <th>subreddit</th>\n",
       "      <th>title</th>\n",
       "      <th>id</th>\n",
       "      <th>url</th>\n",
       "      <th>author</th>\n",
       "      <th>body</th>\n",
       "      <th>majority_type</th>\n",
       "      <th>is_first_post</th>\n",
       "      <th>post_depth</th>\n",
       "      <th>in_reply_to</th>\n",
       "      <th>sentiment.polarity</th>\n",
       "      <th>sentiment.subjectivity</th>\n",
       "    </tr>\n",
       "  </thead>\n",
       "  <tbody>\n",
       "    <tr>\n",
       "      <th>0</th>\n",
       "      <td>relationships</td>\n",
       "      <td>My Friend/Crush [22/F] acting weird after I [2...</td>\n",
       "      <td>t1_cy7f317</td>\n",
       "      <td>https://www.reddit.com/r/relationships/comment...</td>\n",
       "      <td>Melodrama_</td>\n",
       "      <td>It's a sad realization, isn't it?</td>\n",
       "      <td></td>\n",
       "      <td>False</td>\n",
       "      <td>2</td>\n",
       "      <td>t1_cy7erc5</td>\n",
       "      <td>negative</td>\n",
       "      <td>1.000000</td>\n",
       "    </tr>\n",
       "    <tr>\n",
       "      <th>1</th>\n",
       "      <td>relationships</td>\n",
       "      <td>My Friend/Crush [22/F] acting weird after I [2...</td>\n",
       "      <td>t1_cy7hlyf</td>\n",
       "      <td>https://www.reddit.com/r/relationships/comment...</td>\n",
       "      <td>Melodrama_</td>\n",
       "      <td>I told her a couple of minutes ago that I didn...</td>\n",
       "      <td>elaboration</td>\n",
       "      <td>False</td>\n",
       "      <td>2</td>\n",
       "      <td>t1_cy7erc5</td>\n",
       "      <td>neutral</td>\n",
       "      <td>0.483631</td>\n",
       "    </tr>\n",
       "    <tr>\n",
       "      <th>2</th>\n",
       "      <td>relationships</td>\n",
       "      <td>My Friend/Crush [22/F] acting weird after I [2...</td>\n",
       "      <td>t1_cy7etrr</td>\n",
       "      <td>https://www.reddit.com/r/relationships/comment...</td>\n",
       "      <td>TreatYoSelves</td>\n",
       "      <td>Leeches don't make good friends.</td>\n",
       "      <td>answer</td>\n",
       "      <td>False</td>\n",
       "      <td>1</td>\n",
       "      <td>t3_3xshx9</td>\n",
       "      <td>positive</td>\n",
       "      <td>0.600000</td>\n",
       "    </tr>\n",
       "    <tr>\n",
       "      <th>3</th>\n",
       "      <td>relationships</td>\n",
       "      <td>My Friend/Crush [22/F] acting weird after I [2...</td>\n",
       "      <td>t1_cy7hhpq</td>\n",
       "      <td>https://www.reddit.com/r/relationships/comment...</td>\n",
       "      <td>Melodrama_</td>\n",
       "      <td>I just ended it. Apparently she wasn't a good ...</td>\n",
       "      <td>elaboration</td>\n",
       "      <td>False</td>\n",
       "      <td>2</td>\n",
       "      <td>t1_cy7etrr</td>\n",
       "      <td>positive</td>\n",
       "      <td>0.475000</td>\n",
       "    </tr>\n",
       "    <tr>\n",
       "      <th>4</th>\n",
       "      <td>relationships</td>\n",
       "      <td>My Friend/Crush [22/F] acting weird after I [2...</td>\n",
       "      <td>t1_cy7q0qg</td>\n",
       "      <td>https://www.reddit.com/r/relationships/comment...</td>\n",
       "      <td>TreatYoSelves</td>\n",
       "      <td>Good for you!  Make sure you stick with it.</td>\n",
       "      <td>appreciation</td>\n",
       "      <td>False</td>\n",
       "      <td>3</td>\n",
       "      <td>t1_cy7hhpq</td>\n",
       "      <td>positive</td>\n",
       "      <td>0.744444</td>\n",
       "    </tr>\n",
       "  </tbody>\n",
       "</table>\n",
       "</div>"
      ],
      "text/plain": [
       "       subreddit  ... sentiment.subjectivity\n",
       "0  relationships  ...               1.000000\n",
       "1  relationships  ...               0.483631\n",
       "2  relationships  ...               0.600000\n",
       "3  relationships  ...               0.475000\n",
       "4  relationships  ...               0.744444\n",
       "\n",
       "[5 rows x 12 columns]"
      ]
     },
     "execution_count": 102,
     "metadata": {
      "tags": []
     },
     "output_type": "execute_result"
    }
   ],
   "source": [
    "train_data.head()"
   ]
  },
  {
   "cell_type": "code",
   "execution_count": 103,
   "metadata": {
    "colab": {
     "base_uri": "https://localhost:8080/",
     "height": 232
    },
    "id": "RzwCk8EjU4ah",
    "outputId": "2e4a9a7b-d207-4c2d-8422-c35be2029699"
   },
   "outputs": [
    {
     "data": {
      "image/png": "[encoded data removed]",
      "text/plain": [
       "<Figure size 432x288 with 1 Axes>"
      ]
     },
     "metadata": {
      "needs_background": "light",
      "tags": []
     },
     "output_type": "display_data"
    }
   ],
   "source": [
    "from wordcloud import WordCloud\n",
    "%matplotlib inline\n",
    "from matplotlib import pyplot as plt\n",
    "allWords = ' '.join([a for a in train_data['body']])\n",
    "\n",
    "wordcloud = WordCloud(width = 500 ,height =300 ,random_state = 21,max_font_size=120).generate(allWords)\n",
    "plt.imshow(wordcloud,interpolation=\"bilinear\")\n",
    "plt.axis('off')\n",
    "plt.show()\n"
   ]
  },
  {
   "cell_type": "code",
   "execution_count": 104,
   "metadata": {
    "colab": {
     "base_uri": "https://localhost:8080/",
     "height": 446
    },
    "id": "YTwKG547cHbe",
    "outputId": "08e23f38-0615-44de-827a-7e05348907c5"
   },
   "outputs": [
    {
     "name": "stdout",
     "output_type": "stream",
     "text": [
      "Top polarity values\n"
     ]
    },
    {
     "data": {
      "text/plain": [
       "neutral          7679\n",
       "positive         3231\n",
       "negative          878\n",
       "very positive     253\n",
       "very negative      97\n",
       "Name: sentiment.polarity, dtype: int64"
      ]
     },
     "execution_count": 104,
     "metadata": {
      "tags": []
     },
     "output_type": "execute_result"
    },
    {
     "data": {
      "image/png": "[encoded data removed]",
      "text/plain": [
       "<Figure size 432x288 with 1 Axes>"
      ]
     },
     "metadata": {
      "needs_background": "light",
      "tags": []
     },
     "output_type": "display_data"
    }
   ],
   "source": [
    "import numpy as np \n",
    "replaced_polarity = train_data.replace('', np.nan)\n",
    "polarity = replaced_polarity['sentiment.polarity'].value_counts()\n",
    "top_reviews = polarity.nlargest(10).plot.bar()\n",
    "print('Top polarity values')\n",
    "polarity"
   ]
  },
  {
   "cell_type": "code",
   "execution_count": 105,
   "metadata": {
    "colab": {
     "base_uri": "https://localhost:8080/",
     "height": 544
    },
    "id": "sCZprbbgd_Ag",
    "outputId": "62ec4c4c-416d-472b-b215-a5cbfea5fc5f"
   },
   "outputs": [
    {
     "name": "stdout",
     "output_type": "stream",
     "text": [
      "Top majority values\n"
     ]
    },
    {
     "data": {
      "text/plain": [
       "answer              5207\n",
       "question            2016\n",
       "elaboration         1638\n",
       "appreciation         674\n",
       "agreement            406\n",
       "disagreement         356\n",
       "humor                275\n",
       "other                187\n",
       "negativereaction     157\n",
       "announcement         122\n",
       "Name: majority_type, dtype: int64"
      ]
     },
     "execution_count": 105,
     "metadata": {
      "tags": []
     },
     "output_type": "execute_result"
    },
    {
     "data": {
      "image/png": "[encoded data removed]",
      "text/plain": [
       "<Figure size 432x288 with 1 Axes>"
      ]
     },
     "metadata": {
      "needs_background": "light",
      "tags": []
     },
     "output_type": "display_data"
    }
   ],
   "source": [
    "replaced_majority = train_data.replace('', np.nan)\n",
    "majority = replaced_majority['majority_type'].value_counts()\n",
    "top_majority = majority.nlargest(10).plot.bar()\n",
    "print('Top majority values')\n",
    "majority"
   ]
  },
  {
   "cell_type": "markdown",
   "metadata": {
    "id": "X9afLU6Vf-lY"
   },
   "source": [
    "## Data Preprocessing"
   ]
  },
  {
   "cell_type": "markdown",
   "metadata": {
    "id": "mbpdbyiWg_Qf"
   },
   "source": [
    "### Making to lower"
   ]
  },
  {
   "cell_type": "code",
   "execution_count": 106,
   "metadata": {
    "id": "brP9j0DahBZk"
   },
   "outputs": [],
   "source": [
    "train_data = train_data.apply(lambda x: x.astype(str).str.lower())\n",
    "validation_data = validation_data.apply(lambda x: x.astype(str).str.lower())\n",
    "test_data = test_data.apply(lambda x: x.astype(str).str.lower())"
   ]
  },
  {
   "cell_type": "markdown",
   "metadata": {
    "id": "IV-rYZUFgBLP"
   },
   "source": [
    "### Removing Punctuations, Numbers, and Special Characters"
   ]
  },
  {
   "cell_type": "code",
   "execution_count": 107,
   "metadata": {
    "id": "4iMFi4SVfILU"
   },
   "outputs": [],
   "source": [
    "# remove special characters, numbers, punctuations\n",
    "train_data['body'] = train_data['body'].str.replace('[^a-zA-Z#]+',' ')\n",
    "validation_data['body'] = validation_data['body'].str.replace('[^a-zA-Z#]+',' ')\n",
    "test_data['body'] = test_data['body'].str.replace('[^a-zA-Z#]+',' ')"
   ]
  },
  {
   "cell_type": "markdown",
   "metadata": {
    "id": "zR_RsrargK1V"
   },
   "source": [
    "###  Removing Short Words"
   ]
  },
  {
   "cell_type": "code",
   "execution_count": 108,
   "metadata": {
    "id": "sAZ-nIWTf2Rc"
   },
   "outputs": [],
   "source": [
    "train_data['body'] = train_data['body'] .apply(lambda x: ' '.join([w for w in x.split() if len(w) > 2]))\n",
    "validation_data['body'] = validation_data['body'] .apply(lambda x: ' '.join([w for w in x.split() if len(w) > 2]))\n",
    "test_data['body'] = test_data['body'] .apply(lambda x: ' '.join([w for w in x.split() if len(w) > 2]))"
   ]
  },
  {
   "cell_type": "markdown",
   "metadata": {
    "id": "jXuJa5g-hhDo"
   },
   "source": [
    "### Tokenize and Normalize"
   ]
  },
  {
   "cell_type": "code",
   "execution_count": 109,
   "metadata": {
    "colab": {
     "base_uri": "https://localhost:8080/"
    },
    "id": "h-H9VgnikkaV",
    "outputId": "faeaff57-a5cf-44f1-97fb-67ae369cf904"
   },
   "outputs": [
    {
     "name": "stdout",
     "output_type": "stream",
     "text": [
      "[nltk_data] Downloading package stopwords to /root/nltk_data...\n",
      "[nltk_data]   Package stopwords is already up-to-date!\n"
     ]
    },
    {
     "data": {
      "text/plain": [
       "True"
      ]
     },
     "execution_count": 109,
     "metadata": {
      "tags": []
     },
     "output_type": "execute_result"
    }
   ],
   "source": [
    "import spacy\n",
    "\n",
    "# Load the medium english model. \n",
    "# We will use this model to get embedding features for tokens later.\n",
    "#!python -m spacy download en_core_web_md\n",
    "\n",
    "nlp = spacy.load('en_core_web_sm', disable=['ner'])\n",
    "nlp.remove_pipe('tagger')\n",
    "nlp.remove_pipe('parser')\n",
    "\n",
    "# Download a stopword list\n",
    "import nltk\n",
    "nltk.download('stopwords')"
   ]
  },
  {
   "cell_type": "code",
   "execution_count": 110,
   "metadata": {
    "id": "g-cE0tOrgbEy"
   },
   "outputs": [],
   "source": [
    "def spacy_tokenize(string):\n",
    "  tokens = list()\n",
    "  doc = nlp(string)\n",
    "  for token in doc:\n",
    "    tokens.append(token)\n",
    "  return tokens\n",
    "\n",
    "#Normalize\n",
    "def normalize(tokens):\n",
    "  normalized_tokens = list()\n",
    "  for token in tokens:\n",
    "    normalized = token.text.lower().strip()\n",
    "    if ((token.is_alpha or token.is_digit)):\n",
    "      normalized_tokens.append(normalized)\n",
    "  return normalized_tokens\n",
    "  return normalized_tokens\n",
    "\n",
    "#Tokenize and normalize\n",
    "def tokenize_normalize(string):\n",
    "  return normalize(spacy_tokenize(string))"
   ]
  },
  {
   "cell_type": "markdown",
   "metadata": {
    "id": "AjV-kKw8h9O1"
   },
   "source": [
    "### Removing Stopwords"
   ]
  },
  {
   "cell_type": "code",
   "execution_count": 111,
   "metadata": {
    "colab": {
     "base_uri": "https://localhost:8080/"
    },
    "id": "YIcrF5Jwhjfx",
    "outputId": "4f3156c7-a218-434d-8d7b-083edcf82b53"
   },
   "outputs": [
    {
     "name": "stdout",
     "output_type": "stream",
     "text": [
      "[nltk_data] Downloading package stopwords to /root/nltk_data...\n",
      "[nltk_data]   Package stopwords is already up-to-date!\n"
     ]
    }
   ],
   "source": [
    "import nltk \n",
    "nltk.download('stopwords')\n",
    "from nltk.corpus import stopwords\n",
    "stop = stopwords.words('english')"
   ]
  },
  {
   "cell_type": "code",
   "execution_count": 112,
   "metadata": {
    "colab": {
     "base_uri": "https://localhost:8080/"
    },
    "id": "gUSCJzyZiCX3",
    "outputId": "03c9d464-f1b1-4af7-c58e-0f08f76fde77"
   },
   "outputs": [
    {
     "data": {
      "text/plain": [
       "0       [w,  , w, c, h, n, g,  , v,  , f, r,  , l,  , ...\n",
       "1       [f, n,  , c, l,  , h,  , b, h,  , n,  , n,  , ...\n",
       "2       [e, v, e, n,  , b, e, e, r,  , w, c, h,  , v, ...\n",
       "3       [w, n,  , h,  , l,  , e, p, c,  , n,  , w, e, ...\n",
       "4              [b, c, l, l,  , w, h,  , h, e,  , l, e,  ]\n",
       "                              ...                        \n",
       "4011    [u, p, e, r,  , g, c, u, l, u,  , h,  , p, w, ...\n",
       "4012           [w, n,  , k, n, w,  , w, h, c, h,  , u, b]\n",
       "4013    [h, e,  , p, w, e, r,  , l, g, c,  , r, c, h, ...\n",
       "4014    [b, b, l, e,  , b, e, l,  , p, n, f, f,  , r, ...\n",
       "4015    [b, e,  , r, e, l, g, n,  , l, v, e,  , w, u, ...\n",
       "Name: body, Length: 4016, dtype: object"
      ]
     },
     "execution_count": 112,
     "metadata": {
      "tags": []
     },
     "output_type": "execute_result"
    }
   ],
   "source": [
    "\n",
    "train_data['body'].apply(lambda x: [item for item in x if item not in stop])\n",
    "validation_data['body'].apply(lambda x: [item for item in x if item not in stop])\n",
    "test_data['body'].apply(lambda x: [item for item in x if item not in stop])\n"
   ]
  },
  {
   "cell_type": "markdown",
   "metadata": {
    "id": "aN8PH10jj_p8"
   },
   "source": [
    "### One hot vectorizer"
   ]
  },
  {
   "cell_type": "code",
   "execution_count": 14,
   "metadata": {
    "id": "p163aF6wiasf"
   },
   "outputs": [],
   "source": [
    "from sklearn.feature_extraction.text import CountVectorizer\n",
    "\n",
    "one_hot_vectorizer = CountVectorizer(tokenizer=tokenize_normalize, binary=True)\n",
    "train_features = one_hot_vectorizer.fit_transform(train_data['body'])\n",
    "validation_features = one_hot_vectorizer.transform(validation_data['body'])\n",
    "test_features = one_hot_vectorizer.transform(test_data['body'])"
   ]
  },
  {
   "cell_type": "code",
   "execution_count": 113,
   "metadata": {
    "id": "CTHvpEy7jgmO"
   },
   "outputs": [],
   "source": [
    "train_labels = train_data['sentiment.polarity']\n",
    "validation_labels = validation_data['sentiment.polarity']\n",
    "test_labels = test_data['sentiment.polarity']"
   ]
  },
  {
   "cell_type": "code",
   "execution_count": 16,
   "metadata": {
    "id": "0OZHDF4amNJG"
   },
   "outputs": [],
   "source": [
    "from sklearn.metrics import classification_report\n",
    "from sklearn.metrics import confusion_matrix\n",
    "from sklearn.metrics import precision_score\n",
    "from sklearn.metrics import recall_score\n",
    "from sklearn.metrics import accuracy_score\n",
    "from sklearn.metrics import fbeta_score\n",
    "import matplotlib.pyplot as plt\n",
    "\n",
    "def evaluation_summary(description, predictions, true_labels):\n",
    "  print(\"Evaluation for: \" + description)\n",
    "  precision = precision_score(predictions, true_labels,average = 'weighted')\n",
    "  recall = recall_score(predictions, true_labels,average = 'weighted')\n",
    "  accuracy = accuracy_score(predictions, true_labels)\n",
    "  f1 = fbeta_score(predictions, true_labels, 1,average = 'weighted') #1 means f_1 measure\n",
    "  print(\"Classifier '%s' has Acc=%0.3f P=%0.3f R=%0.3f F1=%0.3f\" % (description,accuracy,precision,recall,f1))\n",
    "  a = classification_report(predictions, true_labels, digits=3, zero_division = 0)\n",
    "  print(a)\n",
    "  print('\\nConfusion matrix:\\n',confusion_matrix(true_labels, predictions)) # Note the order here is true, predicted"
   ]
  },
  {
   "cell_type": "markdown",
   "metadata": {
    "id": "czwg_Zrrmj9V"
   },
   "source": [
    "\n",
    "###  Dummy Classifier with strategy=\"most_frequent\"\n"
   ]
  },
  {
   "cell_type": "code",
   "execution_count": 18,
   "metadata": {
    "colab": {
     "base_uri": "https://localhost:8080/"
    },
    "id": "7nTe7I4kmWc_",
    "outputId": "3b9f5c4b-0146-4147-abc3-0f248771bdbf"
   },
   "outputs": [
    {
     "name": "stdout",
     "output_type": "stream",
     "text": [
      "0.6307494371180444\n",
      "Evaluation for: Dummy Majority\n",
      "Classifier 'Dummy Majority' has Acc=0.631 P=1.000 R=0.631 F1=0.774\n",
      "               precision    recall  f1-score   support\n",
      "\n",
      "     negative      0.000     0.000     0.000         0\n",
      "      neutral      1.000     0.631     0.774      3109\n",
      "     positive      0.000     0.000     0.000         0\n",
      "very negative      0.000     0.000     0.000         0\n",
      "very positive      0.000     0.000     0.000         0\n",
      "\n",
      "     accuracy                          0.631      3109\n",
      "    macro avg      0.200     0.126     0.155      3109\n",
      " weighted avg      1.000     0.631     0.774      3109\n",
      "\n",
      "\n",
      "Confusion matrix:\n",
      " [[   0  215    0    0    0]\n",
      " [   0 1961    0    0    0]\n",
      " [   0  845    0    0    0]\n",
      " [   0   15    0    0    0]\n",
      " [   0   73    0    0    0]]\n"
     ]
    },
    {
     "name": "stderr",
     "output_type": "stream",
     "text": [
      "/usr/local/lib/python3.7/dist-packages/sklearn/metrics/_classification.py:1272: UndefinedMetricWarning: Recall is ill-defined and being set to 0.0 in labels with no true samples. Use `zero_division` parameter to control this behavior.\n",
      "  _warn_prf(average, modifier, msg_start, len(result))\n"
     ]
    }
   ],
   "source": [
    "from sklearn.dummy import DummyClassifier\n",
    "\n",
    "dummy_mf = DummyClassifier(strategy='most_frequent')\n",
    "dummy_mf.fit(train_features, train_labels)\n",
    "print(dummy_mf.score(validation_features, validation_labels))\n",
    "evaluation_summary(\"Dummy Majority\", dummy_mf.predict(validation_features), validation_labels)"
   ]
  },
  {
   "cell_type": "code",
   "execution_count": 19,
   "metadata": {
    "colab": {
     "base_uri": "https://localhost:8080/"
    },
    "id": "QNqsyoTTmYp8",
    "outputId": "53e61858-3824-453c-eefd-6fbc9306a0c2"
   },
   "outputs": [
    {
     "name": "stdout",
     "output_type": "stream",
     "text": [
      "0.625996015936255\n",
      "Evaluation for: Dummy Majority\n",
      "Classifier 'Dummy Majority' has Acc=0.626 P=1.000 R=0.626 F1=0.770\n",
      "               precision    recall  f1-score   support\n",
      "\n",
      "     negative      0.000     0.000     0.000         0\n",
      "      neutral      1.000     0.626     0.770      4016\n",
      "     positive      0.000     0.000     0.000         0\n",
      "very negative      0.000     0.000     0.000         0\n",
      "very positive      0.000     0.000     0.000         0\n",
      "\n",
      "     accuracy                          0.626      4016\n",
      "    macro avg      0.200     0.125     0.154      4016\n",
      " weighted avg      1.000     0.626     0.770      4016\n",
      "\n",
      "\n",
      "Confusion matrix:\n",
      " [[   0  282    0    0    0]\n",
      " [   0 2514    0    0    0]\n",
      " [   0 1102    0    0    0]\n",
      " [   0   32    0    0    0]\n",
      " [   0   86    0    0    0]]\n"
     ]
    },
    {
     "name": "stderr",
     "output_type": "stream",
     "text": [
      "/usr/local/lib/python3.7/dist-packages/sklearn/metrics/_classification.py:1272: UndefinedMetricWarning: Recall is ill-defined and being set to 0.0 in labels with no true samples. Use `zero_division` parameter to control this behavior.\n",
      "  _warn_prf(average, modifier, msg_start, len(result))\n"
     ]
    }
   ],
   "source": [
    "print(dummy_mf.score(test_features, test_labels))\n",
    "evaluation_summary(\"Dummy Majority\", dummy_mf.predict(test_features), test_labels)"
   ]
  },
  {
   "cell_type": "markdown",
   "metadata": {
    "id": "h8waJmDPmpob"
   },
   "source": [
    "### Dummy Classifier with strategy=\"stratified\"\n"
   ]
  },
  {
   "cell_type": "code",
   "execution_count": 20,
   "metadata": {
    "colab": {
     "base_uri": "https://localhost:8080/"
    },
    "id": "HhIwB4xTmaQb",
    "outputId": "22531ef6-b581-4b43-97ad-30845a04d651"
   },
   "outputs": [
    {
     "name": "stdout",
     "output_type": "stream",
     "text": [
      "0.4889031843036346\n",
      "Evaluation for: Dummy Prior\n",
      "Classifier 'Dummy Prior' has Acc=0.476 P=0.477 R=0.476 F1=0.477\n",
      "               precision    recall  f1-score   support\n",
      "\n",
      "     negative      0.098     0.092     0.095       229\n",
      "      neutral      0.632     0.627     0.630      1977\n",
      "     positive      0.259     0.269     0.264       814\n",
      "very negative      0.000     0.000     0.000        25\n",
      "very positive      0.014     0.016     0.015        64\n",
      "\n",
      "     accuracy                          0.476      3109\n",
      "    macro avg      0.201     0.201     0.201      3109\n",
      " weighted avg      0.477     0.476     0.477      3109\n",
      "\n",
      "\n",
      "Confusion matrix:\n",
      " [[  21  127   60    0    7]\n",
      " [ 142 1240  521   16   42]\n",
      " [  57  546  219    9   14]\n",
      " [   4   10    1    0    0]\n",
      " [   5   54   13    0    1]]\n"
     ]
    }
   ],
   "source": [
    "\n",
    "dummy_prior = DummyClassifier(strategy='stratified')\n",
    "dummy_prior.fit(train_features, train_labels)\n",
    "print(dummy_prior.score(validation_features, validation_labels))\n",
    "evaluation_summary(\"Dummy Prior\", dummy_prior.predict(validation_features), validation_labels)"
   ]
  },
  {
   "cell_type": "code",
   "execution_count": 21,
   "metadata": {
    "colab": {
     "base_uri": "https://localhost:8080/"
    },
    "id": "yomIFAuZmuee",
    "outputId": "ea424934-54f9-42ce-f7a5-18222600904e"
   },
   "outputs": [
    {
     "name": "stdout",
     "output_type": "stream",
     "text": [
      "0.47808764940239046\n",
      "Evaluation for: Dummy Prior\n",
      "Classifier 'Dummy Prior' has Acc=0.481 P=0.488 R=0.481 F1=0.484\n",
      "               precision    recall  f1-score   support\n",
      "\n",
      "     negative      0.103     0.092     0.097       314\n",
      "      neutral      0.649     0.629     0.639      2593\n",
      "     positive      0.243     0.270     0.256       993\n",
      "very negative      0.000     0.000     0.000        22\n",
      "very positive      0.012     0.011     0.011        94\n",
      "\n",
      "     accuracy                          0.481      4016\n",
      "    macro avg      0.201     0.200     0.201      4016\n",
      " weighted avg      0.488     0.481     0.484      4016\n",
      "\n",
      "\n",
      "Confusion matrix:\n",
      " [[  29  164   81    2    6]\n",
      " [ 191 1632  618   17   56]\n",
      " [  87  713  268    3   31]\n",
      " [   1   22    9    0    0]\n",
      " [   6   62   17    0    1]]\n"
     ]
    }
   ],
   "source": [
    "print(dummy_prior.score(test_features, test_labels))\n",
    "evaluation_summary(\"Dummy Prior\", dummy_prior.predict(test_features), test_labels)"
   ]
  },
  {
   "cell_type": "markdown",
   "metadata": {
    "id": "rvznuRCim4B-"
   },
   "source": [
    "### LogisticRegression with One-hot vectorization"
   ]
  },
  {
   "cell_type": "code",
   "execution_count": 114,
   "metadata": {
    "colab": {
     "base_uri": "https://localhost:8080/"
    },
    "id": "dbjSEL_Zmw3X",
    "outputId": "e85635af-2b22-4b01-c6fe-6e2c2fb400b7"
   },
   "outputs": [
    {
     "name": "stderr",
     "output_type": "stream",
     "text": [
      "/usr/local/lib/python3.7/dist-packages/sklearn/linear_model/_logistic.py:940: ConvergenceWarning: lbfgs failed to converge (status=1):\n",
      "STOP: TOTAL NO. of ITERATIONS REACHED LIMIT.\n",
      "\n",
      "Increase the number of iterations (max_iter) or scale the data as shown in:\n",
      "    https://scikit-learn.org/stable/modules/preprocessing.html\n",
      "Please also refer to the documentation for alternative solver options:\n",
      "    https://scikit-learn.org/stable/modules/linear_model.html#logistic-regression\n",
      "  extra_warning_msg=_LOGISTIC_SOLVER_CONVERGENCE_MSG)\n"
     ]
    },
    {
     "name": "stdout",
     "output_type": "stream",
     "text": [
      "0.7481505307172724\n",
      "Evaluation for: LR onehot\n",
      "Classifier 'LR onehot' has Acc=0.748 P=0.797 R=0.748 F1=0.766\n",
      "               precision    recall  f1-score   support\n",
      "\n",
      "     negative      0.233     0.526     0.323        95\n",
      "      neutral      0.890     0.772     0.827      2261\n",
      "     positive      0.604     0.710     0.653       718\n",
      "very negative      0.133     0.500     0.211         4\n",
      "very positive      0.247     0.581     0.346        31\n",
      "\n",
      "     accuracy                          0.748      3109\n",
      "    macro avg      0.421     0.618     0.472      3109\n",
      " weighted avg      0.797     0.748     0.766      3109\n",
      "\n",
      "\n",
      "Confusion matrix:\n",
      " [[  50  157    7    1    0]\n",
      " [  41 1746  167    1    6]\n",
      " [   2  326  510    0    7]\n",
      " [   2   11    0    2    0]\n",
      " [   0   21   34    0   18]]\n"
     ]
    }
   ],
   "source": [
    "from sklearn.linear_model import LogisticRegression\n",
    "lr = LogisticRegression()\n",
    "lr_model = lr.fit(train_features, train_labels)\n",
    "print(lr_model.score(validation_features, validation_labels))\n",
    "evaluation_summary(\"LR onehot\", lr_model.predict(validation_features), validation_labels)"
   ]
  },
  {
   "cell_type": "code",
   "execution_count": 23,
   "metadata": {
    "colab": {
     "base_uri": "https://localhost:8080/"
    },
    "id": "Fugmg6U0m8Wu",
    "outputId": "3d726b43-594b-4b02-811c-3926995cfbdf"
   },
   "outputs": [
    {
     "name": "stdout",
     "output_type": "stream",
     "text": [
      "0.7412848605577689\n",
      "Evaluation for: LR onehot\n",
      "Classifier 'LR onehot' has Acc=0.741 P=0.787 R=0.741 F1=0.759\n",
      "               precision    recall  f1-score   support\n",
      "\n",
      "     negative      0.227     0.467     0.305       137\n",
      "      neutral      0.880     0.768     0.820      2881\n",
      "     positive      0.614     0.714     0.660       948\n",
      "very negative      0.062     0.667     0.114         3\n",
      "very positive      0.256     0.468     0.331        47\n",
      "\n",
      "     accuracy                          0.741      4016\n",
      "    macro avg      0.408     0.617     0.446      4016\n",
      " weighted avg      0.787     0.741     0.759      4016\n",
      "\n",
      "\n",
      "Confusion matrix:\n",
      " [[  64  212    5    1    0]\n",
      " [  64 2212  227    0   11]\n",
      " [   2  409  677    0   14]\n",
      " [   7   23    0    2    0]\n",
      " [   0   25   39    0   22]]\n"
     ]
    }
   ],
   "source": [
    "print(lr_model.score(test_features, test_labels))\n",
    "evaluation_summary(\"LR onehot\", lr_model.predict(test_features), test_labels)\n"
   ]
  },
  {
   "cell_type": "markdown",
   "metadata": {
    "id": "AfdyPn40oa64"
   },
   "source": [
    "### TF-IDF VECTORIZER"
   ]
  },
  {
   "cell_type": "code",
   "execution_count": 24,
   "metadata": {
    "id": "I3ag-NGjm-Q_"
   },
   "outputs": [],
   "source": [
    "\n",
    "from sklearn.feature_extraction.text import TfidfVectorizer\n",
    "\n",
    "vectorizer = TfidfVectorizer(tokenizer=tokenize_normalize,ngram_range=(1,2) , max_features=50000)"
   ]
  },
  {
   "cell_type": "code",
   "execution_count": 25,
   "metadata": {
    "id": "4aIrWat5opAH"
   },
   "outputs": [],
   "source": [
    "tfid_train_features = vectorizer.fit_transform(train_data['body'])\n",
    "tfid_validation_features = vectorizer.fit_transform(validation_data['body'])\n",
    "tfid_test_features = vectorizer.fit_transform(test_data['body'])"
   ]
  },
  {
   "cell_type": "markdown",
   "metadata": {
    "id": "kem7Z6Oro9O7"
   },
   "source": [
    "### LogisticRegression with TF-IDF vectorization"
   ]
  },
  {
   "cell_type": "code",
   "execution_count": 39,
   "metadata": {
    "colab": {
     "base_uri": "https://localhost:8080/"
    },
    "id": "Ko6wyEpKosxA",
    "outputId": "7a274469-163c-4a0b-9516-6fb6a7ad8cbe"
   },
   "outputs": [
    {
     "name": "stderr",
     "output_type": "stream",
     "text": [
      "/usr/local/lib/python3.7/dist-packages/sklearn/linear_model/_logistic.py:940: ConvergenceWarning: lbfgs failed to converge (status=1):\n",
      "STOP: TOTAL NO. of ITERATIONS REACHED LIMIT.\n",
      "\n",
      "Increase the number of iterations (max_iter) or scale the data as shown in:\n",
      "    https://scikit-learn.org/stable/modules/preprocessing.html\n",
      "Please also refer to the documentation for alternative solver options:\n",
      "    https://scikit-learn.org/stable/modules/linear_model.html#logistic-regression\n",
      "  extra_warning_msg=_LOGISTIC_SOLVER_CONVERGENCE_MSG)\n"
     ]
    },
    {
     "name": "stdout",
     "output_type": "stream",
     "text": [
      "0.6095207462206498\n",
      "Evaluation for: LR TFIDF\n",
      "Classifier 'LR TFIDF' has Acc=0.610 P=0.896 R=0.610 F1=0.719\n",
      "               precision    recall  f1-score   support\n",
      "\n",
      "     negative      0.000     0.000     0.000         4\n",
      "      neutral      0.944     0.629     0.755      2943\n",
      "     positive      0.051     0.281     0.086       153\n",
      "very negative      0.000     0.000     0.000         2\n",
      "very positive      0.000     0.000     0.000         7\n",
      "\n",
      "     accuracy                          0.610      3109\n",
      "    macro avg      0.199     0.182     0.168      3109\n",
      " weighted avg      0.896     0.610     0.719      3109\n",
      "\n",
      "\n",
      "Confusion matrix:\n",
      " [[   0  211    4    0    0]\n",
      " [   2 1852  102    0    5]\n",
      " [   2  797   43    1    2]\n",
      " [   0   14    1    0    0]\n",
      " [   0   69    3    1    0]]\n"
     ]
    }
   ],
   "source": [
    "lr = LogisticRegression(C=1000)\n",
    "tf_model = lr.fit(tfid_train_features,train_labels)\n",
    "print(tf_model.score(tfid_validation_features, validation_labels))\n",
    "evaluation_summary(\"LR TFIDF\", tf_model.predict(tfid_validation_features), validation_labels) "
   ]
  },
  {
   "cell_type": "code",
   "execution_count": 40,
   "metadata": {
    "colab": {
     "base_uri": "https://localhost:8080/"
    },
    "id": "ii7ATLkKpCN_",
    "outputId": "e7fbb61f-cadf-4c69-d3b7-0d10f8bb3cf1"
   },
   "outputs": [
    {
     "name": "stdout",
     "output_type": "stream",
     "text": [
      "0.6090637450199203\n",
      "Evaluation for: LR TFIDF\n",
      "Classifier 'LR TFIDF' has Acc=0.609 P=0.923 R=0.609 F1=0.729\n",
      "               precision    recall  f1-score   support\n",
      "\n",
      "     negative      0.011     0.250     0.020        12\n",
      "      neutral      0.960     0.626     0.758      3855\n",
      "     positive      0.026     0.238     0.047       122\n",
      "very negative      0.000     0.000     0.000         9\n",
      "very positive      0.000     0.000     0.000        18\n",
      "\n",
      "     accuracy                          0.609      4016\n",
      "    macro avg      0.199     0.223     0.165      4016\n",
      " weighted avg      0.923     0.609     0.729      4016\n",
      "\n",
      "\n",
      "Confusion matrix:\n",
      " [[   3  264   12    1    2]\n",
      " [   7 2414   76    4   13]\n",
      " [   2 1065   29    3    3]\n",
      " [   0   30    2    0    0]\n",
      " [   0   82    3    1    0]]\n"
     ]
    }
   ],
   "source": [
    "\n",
    "print(tf_model.score(tfid_test_features, test_labels))\n",
    "evaluation_summary(\"LR TFIDF\", lr.predict(tfid_test_features), test_labels) "
   ]
  },
  {
   "cell_type": "markdown",
   "metadata": {
    "id": "ZokPp6qPppg2"
   },
   "source": [
    "### SVC Classifier with One-hot vectorization"
   ]
  },
  {
   "cell_type": "code",
   "execution_count": 29,
   "metadata": {
    "colab": {
     "base_uri": "https://localhost:8080/"
    },
    "id": "PmNRXEmlpEHU",
    "outputId": "e31ab255-9c6b-436b-8433-f0bca5020aa7"
   },
   "outputs": [
    {
     "name": "stdout",
     "output_type": "stream",
     "text": [
      "0.7272434866516565\n",
      "Evaluation for: SVM\n",
      "Classifier 'SVM' has Acc=0.727 P=0.856 R=0.727 F1=0.774\n",
      "               precision    recall  f1-score   support\n",
      "\n",
      "     negative      0.042     0.750     0.079        12\n",
      "      neutral      0.942     0.727     0.821      2540\n",
      "     positive      0.479     0.727     0.578       557\n",
      "very negative      0.000     0.000     0.000         0\n",
      "very positive      0.000     0.000     0.000         0\n",
      "\n",
      "     accuracy                          0.727      3109\n",
      "    macro avg      0.293     0.441     0.296      3109\n",
      " weighted avg      0.856     0.727     0.774      3109\n",
      "\n",
      "\n",
      "Confusion matrix:\n",
      " [[   9  202    4    0    0]\n",
      " [   1 1847  113    0    0]\n",
      " [   1  439  405    0    0]\n",
      " [   1   14    0    0    0]\n",
      " [   0   38   35    0    0]]\n"
     ]
    },
    {
     "name": "stderr",
     "output_type": "stream",
     "text": [
      "/usr/local/lib/python3.7/dist-packages/sklearn/metrics/_classification.py:1272: UndefinedMetricWarning: Recall is ill-defined and being set to 0.0 in labels with no true samples. Use `zero_division` parameter to control this behavior.\n",
      "  _warn_prf(average, modifier, msg_start, len(result))\n"
     ]
    }
   ],
   "source": [
    "\n",
    "from sklearn import svm\n",
    "clf = svm.SVC(kernel = 'rbf')\n",
    "clf_mod = clf.fit(train_features, train_labels)\n",
    "print(clf_mod.score(validation_features, validation_labels))\n",
    "evaluation_summary(\"SVM\", clf_mod.predict(validation_features), validation_labels)"
   ]
  },
  {
   "cell_type": "code",
   "execution_count": 30,
   "metadata": {
    "colab": {
     "base_uri": "https://localhost:8080/"
    },
    "id": "GN4s_oJmqYfl",
    "outputId": "8c138fc3-3777-47b5-82d6-0bb0dc9b5aee"
   },
   "outputs": [
    {
     "name": "stdout",
     "output_type": "stream",
     "text": [
      "0.734312749003984\n",
      "Evaluation for: SVM\n",
      "Classifier 'SVM' has Acc=0.734 P=0.867 R=0.734 F1=0.783\n",
      "               precision    recall  f1-score   support\n",
      "\n",
      "     negative      0.032     0.643     0.061        14\n",
      "      neutral      0.952     0.729     0.826      3283\n",
      "     positive      0.496     0.761     0.601       719\n",
      "very negative      0.000     0.000     0.000         0\n",
      "very positive      0.000     0.000     0.000         0\n",
      "\n",
      "     accuracy                          0.734      4016\n",
      "    macro avg      0.296     0.427     0.297      4016\n",
      " weighted avg      0.867     0.734     0.783      4016\n",
      "\n",
      "\n",
      "Confusion matrix:\n",
      " [[   9  263   10    0    0]\n",
      " [   3 2393  118    0    0]\n",
      " [   0  555  547    0    0]\n",
      " [   2   30    0    0    0]\n",
      " [   0   42   44    0    0]]\n"
     ]
    },
    {
     "name": "stderr",
     "output_type": "stream",
     "text": [
      "/usr/local/lib/python3.7/dist-packages/sklearn/metrics/_classification.py:1272: UndefinedMetricWarning: Recall is ill-defined and being set to 0.0 in labels with no true samples. Use `zero_division` parameter to control this behavior.\n",
      "  _warn_prf(average, modifier, msg_start, len(result))\n"
     ]
    }
   ],
   "source": [
    "print(clf_mod.score(test_features, test_labels))\n",
    "evaluation_summary(\"SVM\", clf_mod.predict(test_features), test_labels)"
   ]
  },
  {
   "cell_type": "markdown",
   "metadata": {
    "id": "nUIu2xGGrKTo"
   },
   "source": [
    "### An ‘interesting’ classifier model \n",
    "\n",
    "**\"CATBOOST CLASSIFIER\"**"
   ]
  },
  {
   "cell_type": "code",
   "execution_count": 31,
   "metadata": {
    "colab": {
     "base_uri": "https://localhost:8080/"
    },
    "id": "u-mEffhb8_Kj",
    "outputId": "b9ceb461-4f8c-4575-d712-56d14ab83609"
   },
   "outputs": [
    {
     "name": "stdout",
     "output_type": "stream",
     "text": [
      "Requirement already satisfied: catboost in /usr/local/lib/python3.7/dist-packages (0.26)\n",
      "Requirement already satisfied: pandas>=0.24.0 in /usr/local/lib/python3.7/dist-packages (from catboost) (1.1.5)\n",
      "Requirement already satisfied: matplotlib in /usr/local/lib/python3.7/dist-packages (from catboost) (3.2.2)\n",
      "Requirement already satisfied: numpy>=1.16.0 in /usr/local/lib/python3.7/dist-packages (from catboost) (1.19.5)\n",
      "Requirement already satisfied: graphviz in /usr/local/lib/python3.7/dist-packages (from catboost) (0.10.1)\n",
      "Requirement already satisfied: plotly in /usr/local/lib/python3.7/dist-packages (from catboost) (4.4.1)\n",
      "Requirement already satisfied: six in /usr/local/lib/python3.7/dist-packages (from catboost) (1.15.0)\n",
      "Requirement already satisfied: scipy in /usr/local/lib/python3.7/dist-packages (from catboost) (1.4.1)\n",
      "Requirement already satisfied: python-dateutil>=2.7.3 in /usr/local/lib/python3.7/dist-packages (from pandas>=0.24.0->catboost) (2.8.1)\n",
      "Requirement already satisfied: pytz>=2017.2 in /usr/local/lib/python3.7/dist-packages (from pandas>=0.24.0->catboost) (2018.9)\n",
      "Requirement already satisfied: cycler>=0.10 in /usr/local/lib/python3.7/dist-packages (from matplotlib->catboost) (0.10.0)\n",
      "Requirement already satisfied: kiwisolver>=1.0.1 in /usr/local/lib/python3.7/dist-packages (from matplotlib->catboost) (1.3.1)\n",
      "Requirement already satisfied: pyparsing!=2.0.4,!=2.1.2,!=2.1.6,>=2.0.1 in /usr/local/lib/python3.7/dist-packages (from matplotlib->catboost) (2.4.7)\n",
      "Requirement already satisfied: retrying>=1.3.3 in /usr/local/lib/python3.7/dist-packages (from plotly->catboost) (1.3.3)\n",
      "Requirement already satisfied: ipywidgets in /usr/local/lib/python3.7/dist-packages (7.6.3)\n",
      "Requirement already satisfied: jupyterlab-widgets>=1.0.0; python_version >= \"3.6\" in /usr/local/lib/python3.7/dist-packages (from ipywidgets) (1.0.0)\n",
      "Requirement already satisfied: nbformat>=4.2.0 in /usr/local/lib/python3.7/dist-packages (from ipywidgets) (5.1.3)\n",
      "Requirement already satisfied: ipython>=4.0.0; python_version >= \"3.3\" in /usr/local/lib/python3.7/dist-packages (from ipywidgets) (5.5.0)\n",
      "Requirement already satisfied: traitlets>=4.3.1 in /usr/local/lib/python3.7/dist-packages (from ipywidgets) (5.0.5)\n",
      "Requirement already satisfied: widgetsnbextension~=3.5.0 in /usr/local/lib/python3.7/dist-packages (from ipywidgets) (3.5.1)\n",
      "Requirement already satisfied: ipykernel>=4.5.1 in /usr/local/lib/python3.7/dist-packages (from ipywidgets) (4.10.1)\n",
      "Requirement already satisfied: jsonschema!=2.5.0,>=2.4 in /usr/local/lib/python3.7/dist-packages (from nbformat>=4.2.0->ipywidgets) (2.6.0)\n",
      "Requirement already satisfied: jupyter-core in /usr/local/lib/python3.7/dist-packages (from nbformat>=4.2.0->ipywidgets) (4.7.1)\n",
      "Requirement already satisfied: ipython-genutils in /usr/local/lib/python3.7/dist-packages (from nbformat>=4.2.0->ipywidgets) (0.2.0)\n",
      "Requirement already satisfied: simplegeneric>0.8 in /usr/local/lib/python3.7/dist-packages (from ipython>=4.0.0; python_version >= \"3.3\"->ipywidgets) (0.8.1)\n",
      "Requirement already satisfied: pygments in /usr/local/lib/python3.7/dist-packages (from ipython>=4.0.0; python_version >= \"3.3\"->ipywidgets) (2.6.1)\n",
      "Requirement already satisfied: decorator in /usr/local/lib/python3.7/dist-packages (from ipython>=4.0.0; python_version >= \"3.3\"->ipywidgets) (4.4.2)\n",
      "Requirement already satisfied: prompt-toolkit<2.0.0,>=1.0.4 in /usr/local/lib/python3.7/dist-packages (from ipython>=4.0.0; python_version >= \"3.3\"->ipywidgets) (1.0.18)\n",
      "Requirement already satisfied: setuptools>=18.5 in /usr/local/lib/python3.7/dist-packages (from ipython>=4.0.0; python_version >= \"3.3\"->ipywidgets) (57.0.0)\n",
      "Requirement already satisfied: pickleshare in /usr/local/lib/python3.7/dist-packages (from ipython>=4.0.0; python_version >= \"3.3\"->ipywidgets) (0.7.5)\n",
      "Requirement already satisfied: pexpect; sys_platform != \"win32\" in /usr/local/lib/python3.7/dist-packages (from ipython>=4.0.0; python_version >= \"3.3\"->ipywidgets) (4.8.0)\n",
      "Requirement already satisfied: notebook>=4.4.1 in /usr/local/lib/python3.7/dist-packages (from widgetsnbextension~=3.5.0->ipywidgets) (5.3.1)\n",
      "Requirement already satisfied: tornado>=4.0 in /usr/local/lib/python3.7/dist-packages (from ipykernel>=4.5.1->ipywidgets) (5.1.1)\n",
      "Requirement already satisfied: jupyter-client in /usr/local/lib/python3.7/dist-packages (from ipykernel>=4.5.1->ipywidgets) (5.3.5)\n",
      "Requirement already satisfied: wcwidth in /usr/local/lib/python3.7/dist-packages (from prompt-toolkit<2.0.0,>=1.0.4->ipython>=4.0.0; python_version >= \"3.3\"->ipywidgets) (0.2.5)\n",
      "Requirement already satisfied: six>=1.9.0 in /usr/local/lib/python3.7/dist-packages (from prompt-toolkit<2.0.0,>=1.0.4->ipython>=4.0.0; python_version >= \"3.3\"->ipywidgets) (1.15.0)\n",
      "Requirement already satisfied: ptyprocess>=0.5 in /usr/local/lib/python3.7/dist-packages (from pexpect; sys_platform != \"win32\"->ipython>=4.0.0; python_version >= \"3.3\"->ipywidgets) (0.7.0)\n",
      "Requirement already satisfied: Send2Trash in /usr/local/lib/python3.7/dist-packages (from notebook>=4.4.1->widgetsnbextension~=3.5.0->ipywidgets) (1.5.0)\n",
      "Requirement already satisfied: terminado>=0.8.1 in /usr/local/lib/python3.7/dist-packages (from notebook>=4.4.1->widgetsnbextension~=3.5.0->ipywidgets) (0.10.0)\n",
      "Requirement already satisfied: jinja2 in /usr/local/lib/python3.7/dist-packages (from notebook>=4.4.1->widgetsnbextension~=3.5.0->ipywidgets) (2.11.3)\n",
      "Requirement already satisfied: nbconvert in /usr/local/lib/python3.7/dist-packages (from notebook>=4.4.1->widgetsnbextension~=3.5.0->ipywidgets) (5.6.1)\n",
      "Requirement already satisfied: python-dateutil>=2.1 in /usr/local/lib/python3.7/dist-packages (from jupyter-client->ipykernel>=4.5.1->ipywidgets) (2.8.1)\n",
      "Requirement already satisfied: pyzmq>=13 in /usr/local/lib/python3.7/dist-packages (from jupyter-client->ipykernel>=4.5.1->ipywidgets) (22.0.3)\n",
      "Requirement already satisfied: MarkupSafe>=0.23 in /usr/local/lib/python3.7/dist-packages (from jinja2->notebook>=4.4.1->widgetsnbextension~=3.5.0->ipywidgets) (2.0.1)\n",
      "Requirement already satisfied: testpath in /usr/local/lib/python3.7/dist-packages (from nbconvert->notebook>=4.4.1->widgetsnbextension~=3.5.0->ipywidgets) (0.5.0)\n",
      "Requirement already satisfied: entrypoints>=0.2.2 in /usr/local/lib/python3.7/dist-packages (from nbconvert->notebook>=4.4.1->widgetsnbextension~=3.5.0->ipywidgets) (0.3)\n",
      "Requirement already satisfied: pandocfilters>=1.4.1 in /usr/local/lib/python3.7/dist-packages (from nbconvert->notebook>=4.4.1->widgetsnbextension~=3.5.0->ipywidgets) (1.4.3)\n",
      "Requirement already satisfied: mistune<2,>=0.8.1 in /usr/local/lib/python3.7/dist-packages (from nbconvert->notebook>=4.4.1->widgetsnbextension~=3.5.0->ipywidgets) (0.8.4)\n",
      "Requirement already satisfied: defusedxml in /usr/local/lib/python3.7/dist-packages (from nbconvert->notebook>=4.4.1->widgetsnbextension~=3.5.0->ipywidgets) (0.7.1)\n",
      "Requirement already satisfied: bleach in /usr/local/lib/python3.7/dist-packages (from nbconvert->notebook>=4.4.1->widgetsnbextension~=3.5.0->ipywidgets) (3.3.0)\n",
      "Requirement already satisfied: packaging in /usr/local/lib/python3.7/dist-packages (from bleach->nbconvert->notebook>=4.4.1->widgetsnbextension~=3.5.0->ipywidgets) (20.9)\n",
      "Requirement already satisfied: webencodings in /usr/local/lib/python3.7/dist-packages (from bleach->nbconvert->notebook>=4.4.1->widgetsnbextension~=3.5.0->ipywidgets) (0.5.1)\n",
      "Requirement already satisfied: pyparsing>=2.0.2 in /usr/local/lib/python3.7/dist-packages (from packaging->bleach->nbconvert->notebook>=4.4.1->widgetsnbextension~=3.5.0->ipywidgets) (2.4.7)\n"
     ]
    }
   ],
   "source": [
    "!pip install catboost\n",
    "!pip install ipywidgets"
   ]
  },
  {
   "cell_type": "code",
   "execution_count": 32,
   "metadata": {
    "colab": {
     "base_uri": "https://localhost:8080/"
    },
    "id": "TGeKRgkFqaR4",
    "outputId": "7d50244b-6349-43a4-9cf6-dc3b8b8d964a"
   },
   "outputs": [
    {
     "name": "stdout",
     "output_type": "stream",
     "text": [
      "Learning rate set to 0.08987\n",
      "0:\tlearn: 1.4911887\ttotal: 444ms\tremaining: 7m 23s\n",
      "1:\tlearn: 1.4026801\ttotal: 702ms\tremaining: 5m 50s\n",
      "2:\tlearn: 1.3285968\ttotal: 957ms\tremaining: 5m 17s\n",
      "3:\tlearn: 1.2725864\ttotal: 1.22s\tremaining: 5m 4s\n",
      "4:\tlearn: 1.2264530\ttotal: 1.48s\tremaining: 4m 54s\n",
      "5:\tlearn: 1.1850430\ttotal: 1.75s\tremaining: 4m 49s\n",
      "6:\tlearn: 1.1524973\ttotal: 2s\tremaining: 4m 44s\n",
      "7:\tlearn: 1.1199950\ttotal: 2.26s\tremaining: 4m 40s\n",
      "8:\tlearn: 1.0942746\ttotal: 2.52s\tremaining: 4m 37s\n",
      "9:\tlearn: 1.0722873\ttotal: 2.79s\tremaining: 4m 36s\n",
      "10:\tlearn: 1.0515198\ttotal: 3.06s\tremaining: 4m 34s\n",
      "11:\tlearn: 1.0329918\ttotal: 3.32s\tremaining: 4m 33s\n",
      "12:\tlearn: 1.0172194\ttotal: 3.58s\tremaining: 4m 31s\n",
      "13:\tlearn: 1.0046293\ttotal: 3.85s\tremaining: 4m 30s\n",
      "14:\tlearn: 0.9922682\ttotal: 4.11s\tremaining: 4m 29s\n",
      "15:\tlearn: 0.9800569\ttotal: 4.39s\tremaining: 4m 30s\n",
      "16:\tlearn: 0.9721106\ttotal: 4.66s\tremaining: 4m 29s\n",
      "17:\tlearn: 0.9625891\ttotal: 4.92s\tremaining: 4m 28s\n",
      "18:\tlearn: 0.9536146\ttotal: 5.17s\tremaining: 4m 27s\n",
      "19:\tlearn: 0.9431957\ttotal: 5.44s\tremaining: 4m 26s\n",
      "20:\tlearn: 0.9326005\ttotal: 5.74s\tremaining: 4m 27s\n",
      "21:\tlearn: 0.9260141\ttotal: 6.01s\tremaining: 4m 27s\n",
      "22:\tlearn: 0.9207044\ttotal: 6.27s\tremaining: 4m 26s\n",
      "23:\tlearn: 0.9131706\ttotal: 6.56s\tremaining: 4m 26s\n",
      "24:\tlearn: 0.9071497\ttotal: 6.84s\tremaining: 4m 26s\n",
      "25:\tlearn: 0.9006398\ttotal: 7.11s\tremaining: 4m 26s\n",
      "26:\tlearn: 0.8942887\ttotal: 7.39s\tremaining: 4m 26s\n",
      "27:\tlearn: 0.8894516\ttotal: 7.66s\tremaining: 4m 26s\n",
      "28:\tlearn: 0.8852728\ttotal: 7.97s\tremaining: 4m 26s\n",
      "29:\tlearn: 0.8807060\ttotal: 8.25s\tremaining: 4m 26s\n",
      "30:\tlearn: 0.8784113\ttotal: 8.53s\tremaining: 4m 26s\n",
      "31:\tlearn: 0.8752316\ttotal: 8.8s\tremaining: 4m 26s\n",
      "32:\tlearn: 0.8719699\ttotal: 9.07s\tremaining: 4m 25s\n",
      "33:\tlearn: 0.8671777\ttotal: 9.35s\tremaining: 4m 25s\n",
      "34:\tlearn: 0.8649213\ttotal: 9.62s\tremaining: 4m 25s\n",
      "35:\tlearn: 0.8613155\ttotal: 9.9s\tremaining: 4m 25s\n",
      "36:\tlearn: 0.8583989\ttotal: 10.2s\tremaining: 4m 24s\n",
      "37:\tlearn: 0.8573319\ttotal: 10.4s\tremaining: 4m 24s\n",
      "38:\tlearn: 0.8547010\ttotal: 10.7s\tremaining: 4m 24s\n",
      "39:\tlearn: 0.8510439\ttotal: 11s\tremaining: 4m 25s\n",
      "40:\tlearn: 0.8480882\ttotal: 11.3s\tremaining: 4m 24s\n",
      "41:\tlearn: 0.8460574\ttotal: 11.6s\tremaining: 4m 24s\n",
      "42:\tlearn: 0.8429860\ttotal: 11.9s\tremaining: 4m 24s\n",
      "43:\tlearn: 0.8405269\ttotal: 12.2s\tremaining: 4m 24s\n",
      "44:\tlearn: 0.8371754\ttotal: 12.5s\tremaining: 4m 24s\n",
      "45:\tlearn: 0.8352124\ttotal: 12.7s\tremaining: 4m 24s\n",
      "46:\tlearn: 0.8337222\ttotal: 13s\tremaining: 4m 23s\n",
      "47:\tlearn: 0.8307308\ttotal: 13.3s\tremaining: 4m 23s\n",
      "48:\tlearn: 0.8290217\ttotal: 13.6s\tremaining: 4m 23s\n",
      "49:\tlearn: 0.8279451\ttotal: 13.9s\tremaining: 4m 23s\n",
      "50:\tlearn: 0.8257741\ttotal: 14.1s\tremaining: 4m 23s\n",
      "51:\tlearn: 0.8234865\ttotal: 14.4s\tremaining: 4m 23s\n",
      "52:\tlearn: 0.8216568\ttotal: 14.7s\tremaining: 4m 22s\n",
      "53:\tlearn: 0.8203500\ttotal: 15s\tremaining: 4m 22s\n",
      "54:\tlearn: 0.8184144\ttotal: 15.3s\tremaining: 4m 22s\n",
      "55:\tlearn: 0.8168184\ttotal: 15.6s\tremaining: 4m 22s\n",
      "56:\tlearn: 0.8145414\ttotal: 15.9s\tremaining: 4m 22s\n",
      "57:\tlearn: 0.8137061\ttotal: 16.1s\tremaining: 4m 22s\n",
      "58:\tlearn: 0.8127179\ttotal: 16.4s\tremaining: 4m 21s\n",
      "59:\tlearn: 0.8113590\ttotal: 16.7s\tremaining: 4m 21s\n",
      "60:\tlearn: 0.8110967\ttotal: 17s\tremaining: 4m 21s\n",
      "61:\tlearn: 0.8087905\ttotal: 17.3s\tremaining: 4m 21s\n",
      "62:\tlearn: 0.8076860\ttotal: 17.5s\tremaining: 4m 21s\n",
      "63:\tlearn: 0.8065123\ttotal: 17.8s\tremaining: 4m 20s\n",
      "64:\tlearn: 0.8048839\ttotal: 18.1s\tremaining: 4m 20s\n",
      "65:\tlearn: 0.8029655\ttotal: 18.4s\tremaining: 4m 20s\n",
      "66:\tlearn: 0.8023147\ttotal: 18.7s\tremaining: 4m 20s\n",
      "67:\tlearn: 0.8013455\ttotal: 19s\tremaining: 4m 20s\n",
      "68:\tlearn: 0.8004837\ttotal: 19.3s\tremaining: 4m 20s\n",
      "69:\tlearn: 0.8001676\ttotal: 19.5s\tremaining: 4m 19s\n",
      "70:\tlearn: 0.7995378\ttotal: 19.8s\tremaining: 4m 19s\n",
      "71:\tlearn: 0.7985049\ttotal: 20.1s\tremaining: 4m 19s\n",
      "72:\tlearn: 0.7971564\ttotal: 20.4s\tremaining: 4m 19s\n",
      "73:\tlearn: 0.7949822\ttotal: 20.7s\tremaining: 4m 19s\n",
      "74:\tlearn: 0.7941292\ttotal: 21s\tremaining: 4m 19s\n",
      "75:\tlearn: 0.7932311\ttotal: 21.3s\tremaining: 4m 18s\n",
      "76:\tlearn: 0.7923977\ttotal: 21.6s\tremaining: 4m 18s\n",
      "77:\tlearn: 0.7902868\ttotal: 21.9s\tremaining: 4m 18s\n",
      "78:\tlearn: 0.7896497\ttotal: 22.2s\tremaining: 4m 18s\n",
      "79:\tlearn: 0.7882052\ttotal: 22.4s\tremaining: 4m 18s\n",
      "80:\tlearn: 0.7865737\ttotal: 22.7s\tremaining: 4m 17s\n",
      "81:\tlearn: 0.7858994\ttotal: 23s\tremaining: 4m 17s\n",
      "82:\tlearn: 0.7840600\ttotal: 23.3s\tremaining: 4m 17s\n",
      "83:\tlearn: 0.7820560\ttotal: 23.6s\tremaining: 4m 17s\n",
      "84:\tlearn: 0.7808713\ttotal: 23.9s\tremaining: 4m 17s\n",
      "85:\tlearn: 0.7794259\ttotal: 24.2s\tremaining: 4m 17s\n",
      "86:\tlearn: 0.7778868\ttotal: 24.5s\tremaining: 4m 17s\n",
      "87:\tlearn: 0.7768723\ttotal: 24.8s\tremaining: 4m 17s\n",
      "88:\tlearn: 0.7763339\ttotal: 25.1s\tremaining: 4m 16s\n",
      "89:\tlearn: 0.7752415\ttotal: 25.4s\tremaining: 4m 16s\n",
      "90:\tlearn: 0.7740429\ttotal: 25.7s\tremaining: 4m 16s\n",
      "91:\tlearn: 0.7736294\ttotal: 26s\tremaining: 4m 16s\n",
      "92:\tlearn: 0.7721101\ttotal: 26.2s\tremaining: 4m 15s\n",
      "93:\tlearn: 0.7705748\ttotal: 26.5s\tremaining: 4m 15s\n",
      "94:\tlearn: 0.7697310\ttotal: 26.8s\tremaining: 4m 15s\n",
      "95:\tlearn: 0.7687710\ttotal: 27.1s\tremaining: 4m 15s\n",
      "96:\tlearn: 0.7677937\ttotal: 27.4s\tremaining: 4m 15s\n",
      "97:\tlearn: 0.7667722\ttotal: 27.7s\tremaining: 4m 14s\n",
      "98:\tlearn: 0.7656091\ttotal: 28s\tremaining: 4m 14s\n",
      "99:\tlearn: 0.7644368\ttotal: 28.3s\tremaining: 4m 14s\n",
      "100:\tlearn: 0.7630942\ttotal: 28.6s\tremaining: 4m 14s\n",
      "101:\tlearn: 0.7621654\ttotal: 28.8s\tremaining: 4m 13s\n",
      "102:\tlearn: 0.7609741\ttotal: 29.1s\tremaining: 4m 13s\n",
      "103:\tlearn: 0.7591732\ttotal: 29.4s\tremaining: 4m 13s\n",
      "104:\tlearn: 0.7574233\ttotal: 29.8s\tremaining: 4m 13s\n",
      "105:\tlearn: 0.7559261\ttotal: 30s\tremaining: 4m 13s\n",
      "106:\tlearn: 0.7547633\ttotal: 30.3s\tremaining: 4m 13s\n",
      "107:\tlearn: 0.7538934\ttotal: 30.6s\tremaining: 4m 12s\n",
      "108:\tlearn: 0.7531155\ttotal: 30.9s\tremaining: 4m 12s\n",
      "109:\tlearn: 0.7519515\ttotal: 31.2s\tremaining: 4m 12s\n",
      "110:\tlearn: 0.7511604\ttotal: 31.5s\tremaining: 4m 12s\n",
      "111:\tlearn: 0.7500042\ttotal: 31.8s\tremaining: 4m 11s\n",
      "112:\tlearn: 0.7483302\ttotal: 32.1s\tremaining: 4m 11s\n",
      "113:\tlearn: 0.7467595\ttotal: 32.4s\tremaining: 4m 11s\n",
      "114:\tlearn: 0.7457840\ttotal: 32.7s\tremaining: 4m 11s\n",
      "115:\tlearn: 0.7446484\ttotal: 33s\tremaining: 4m 11s\n",
      "116:\tlearn: 0.7441632\ttotal: 33.3s\tremaining: 4m 10s\n",
      "117:\tlearn: 0.7437622\ttotal: 33.5s\tremaining: 4m 10s\n",
      "118:\tlearn: 0.7427625\ttotal: 33.8s\tremaining: 4m 10s\n",
      "119:\tlearn: 0.7417888\ttotal: 34.1s\tremaining: 4m 10s\n",
      "120:\tlearn: 0.7412391\ttotal: 34.4s\tremaining: 4m 9s\n",
      "121:\tlearn: 0.7400762\ttotal: 34.7s\tremaining: 4m 9s\n",
      "122:\tlearn: 0.7393833\ttotal: 35s\tremaining: 4m 9s\n",
      "123:\tlearn: 0.7383742\ttotal: 35.3s\tremaining: 4m 9s\n",
      "124:\tlearn: 0.7373627\ttotal: 35.6s\tremaining: 4m 8s\n",
      "125:\tlearn: 0.7361876\ttotal: 35.9s\tremaining: 4m 8s\n",
      "126:\tlearn: 0.7355050\ttotal: 36.1s\tremaining: 4m 8s\n",
      "127:\tlearn: 0.7343657\ttotal: 36.4s\tremaining: 4m 8s\n",
      "128:\tlearn: 0.7333769\ttotal: 36.7s\tremaining: 4m 7s\n",
      "129:\tlearn: 0.7322056\ttotal: 37s\tremaining: 4m 7s\n",
      "130:\tlearn: 0.7311356\ttotal: 37.3s\tremaining: 4m 7s\n",
      "131:\tlearn: 0.7303486\ttotal: 37.6s\tremaining: 4m 7s\n",
      "132:\tlearn: 0.7297255\ttotal: 37.9s\tremaining: 4m 6s\n",
      "133:\tlearn: 0.7290004\ttotal: 38.1s\tremaining: 4m 6s\n",
      "134:\tlearn: 0.7279973\ttotal: 38.5s\tremaining: 4m 6s\n",
      "135:\tlearn: 0.7271557\ttotal: 38.7s\tremaining: 4m 6s\n",
      "136:\tlearn: 0.7263040\ttotal: 39s\tremaining: 4m 5s\n",
      "137:\tlearn: 0.7255612\ttotal: 39.3s\tremaining: 4m 5s\n",
      "138:\tlearn: 0.7244938\ttotal: 39.7s\tremaining: 4m 5s\n",
      "139:\tlearn: 0.7233470\ttotal: 40s\tremaining: 4m 5s\n",
      "140:\tlearn: 0.7225043\ttotal: 40.3s\tremaining: 4m 5s\n",
      "141:\tlearn: 0.7216367\ttotal: 40.6s\tremaining: 4m 5s\n",
      "142:\tlearn: 0.7206156\ttotal: 40.8s\tremaining: 4m 4s\n",
      "143:\tlearn: 0.7196926\ttotal: 41.1s\tremaining: 4m 4s\n",
      "144:\tlearn: 0.7189339\ttotal: 41.4s\tremaining: 4m 4s\n",
      "145:\tlearn: 0.7182344\ttotal: 41.7s\tremaining: 4m 3s\n",
      "146:\tlearn: 0.7178419\ttotal: 42s\tremaining: 4m 3s\n",
      "147:\tlearn: 0.7173466\ttotal: 42.3s\tremaining: 4m 3s\n",
      "148:\tlearn: 0.7169148\ttotal: 42.6s\tremaining: 4m 3s\n",
      "149:\tlearn: 0.7159251\ttotal: 42.8s\tremaining: 4m 2s\n",
      "150:\tlearn: 0.7154148\ttotal: 43.1s\tremaining: 4m 2s\n",
      "151:\tlearn: 0.7146604\ttotal: 43.4s\tremaining: 4m 2s\n",
      "152:\tlearn: 0.7137547\ttotal: 43.7s\tremaining: 4m 1s\n",
      "153:\tlearn: 0.7129670\ttotal: 44s\tremaining: 4m 1s\n",
      "154:\tlearn: 0.7122308\ttotal: 44.3s\tremaining: 4m 1s\n",
      "155:\tlearn: 0.7114197\ttotal: 44.6s\tremaining: 4m 1s\n",
      "156:\tlearn: 0.7102454\ttotal: 44.9s\tremaining: 4m\n",
      "157:\tlearn: 0.7102193\ttotal: 45.1s\tremaining: 4m\n",
      "158:\tlearn: 0.7093505\ttotal: 45.4s\tremaining: 4m\n",
      "159:\tlearn: 0.7085155\ttotal: 45.8s\tremaining: 4m\n",
      "160:\tlearn: 0.7080247\ttotal: 46s\tremaining: 3m 59s\n",
      "161:\tlearn: 0.7073441\ttotal: 46.3s\tremaining: 3m 59s\n",
      "162:\tlearn: 0.7068616\ttotal: 46.6s\tremaining: 3m 59s\n",
      "163:\tlearn: 0.7066274\ttotal: 46.9s\tremaining: 3m 59s\n",
      "164:\tlearn: 0.7056483\ttotal: 47.2s\tremaining: 3m 58s\n",
      "165:\tlearn: 0.7048951\ttotal: 47.5s\tremaining: 3m 58s\n",
      "166:\tlearn: 0.7044073\ttotal: 47.8s\tremaining: 3m 58s\n",
      "167:\tlearn: 0.7035348\ttotal: 48.1s\tremaining: 3m 58s\n",
      "168:\tlearn: 0.7029076\ttotal: 48.4s\tremaining: 3m 57s\n",
      "169:\tlearn: 0.7020304\ttotal: 48.7s\tremaining: 3m 57s\n",
      "170:\tlearn: 0.7013825\ttotal: 49s\tremaining: 3m 57s\n",
      "171:\tlearn: 0.7009005\ttotal: 49.3s\tremaining: 3m 57s\n",
      "172:\tlearn: 0.7007156\ttotal: 49.5s\tremaining: 3m 56s\n",
      "173:\tlearn: 0.7003245\ttotal: 49.8s\tremaining: 3m 56s\n",
      "174:\tlearn: 0.6996054\ttotal: 50.1s\tremaining: 3m 56s\n",
      "175:\tlearn: 0.6992616\ttotal: 50.4s\tremaining: 3m 55s\n",
      "176:\tlearn: 0.6983387\ttotal: 50.7s\tremaining: 3m 55s\n",
      "177:\tlearn: 0.6978832\ttotal: 51s\tremaining: 3m 55s\n",
      "178:\tlearn: 0.6972082\ttotal: 51.3s\tremaining: 3m 55s\n",
      "179:\tlearn: 0.6969413\ttotal: 51.6s\tremaining: 3m 54s\n",
      "180:\tlearn: 0.6962486\ttotal: 51.8s\tremaining: 3m 54s\n",
      "181:\tlearn: 0.6954620\ttotal: 52.1s\tremaining: 3m 54s\n",
      "182:\tlearn: 0.6947881\ttotal: 52.4s\tremaining: 3m 54s\n",
      "183:\tlearn: 0.6941383\ttotal: 52.7s\tremaining: 3m 53s\n",
      "184:\tlearn: 0.6940301\ttotal: 53s\tremaining: 3m 53s\n",
      "185:\tlearn: 0.6936887\ttotal: 53.3s\tremaining: 3m 53s\n",
      "186:\tlearn: 0.6934691\ttotal: 53.6s\tremaining: 3m 52s\n",
      "187:\tlearn: 0.6930498\ttotal: 53.8s\tremaining: 3m 52s\n",
      "188:\tlearn: 0.6924440\ttotal: 54.1s\tremaining: 3m 52s\n",
      "189:\tlearn: 0.6918957\ttotal: 54.4s\tremaining: 3m 51s\n",
      "190:\tlearn: 0.6915433\ttotal: 54.7s\tremaining: 3m 51s\n",
      "191:\tlearn: 0.6912061\ttotal: 55s\tremaining: 3m 51s\n",
      "192:\tlearn: 0.6906615\ttotal: 55.3s\tremaining: 3m 51s\n",
      "193:\tlearn: 0.6902381\ttotal: 55.5s\tremaining: 3m 50s\n",
      "194:\tlearn: 0.6892929\ttotal: 55.8s\tremaining: 3m 50s\n",
      "195:\tlearn: 0.6886231\ttotal: 56.1s\tremaining: 3m 50s\n",
      "196:\tlearn: 0.6882686\ttotal: 56.4s\tremaining: 3m 49s\n",
      "197:\tlearn: 0.6877933\ttotal: 56.7s\tremaining: 3m 49s\n",
      "198:\tlearn: 0.6875577\ttotal: 57s\tremaining: 3m 49s\n",
      "199:\tlearn: 0.6870919\ttotal: 57.3s\tremaining: 3m 49s\n",
      "200:\tlearn: 0.6867070\ttotal: 57.6s\tremaining: 3m 48s\n",
      "201:\tlearn: 0.6861144\ttotal: 57.8s\tremaining: 3m 48s\n",
      "202:\tlearn: 0.6856717\ttotal: 58.1s\tremaining: 3m 48s\n",
      "203:\tlearn: 0.6848604\ttotal: 58.4s\tremaining: 3m 48s\n",
      "204:\tlearn: 0.6846123\ttotal: 58.8s\tremaining: 3m 47s\n",
      "205:\tlearn: 0.6839126\ttotal: 59s\tremaining: 3m 47s\n",
      "206:\tlearn: 0.6836344\ttotal: 59.3s\tremaining: 3m 47s\n",
      "207:\tlearn: 0.6833356\ttotal: 59.6s\tremaining: 3m 46s\n",
      "208:\tlearn: 0.6827642\ttotal: 59.9s\tremaining: 3m 46s\n",
      "209:\tlearn: 0.6825489\ttotal: 1m\tremaining: 3m 46s\n",
      "210:\tlearn: 0.6820680\ttotal: 1m\tremaining: 3m 46s\n",
      "211:\tlearn: 0.6814547\ttotal: 1m\tremaining: 3m 45s\n",
      "212:\tlearn: 0.6809597\ttotal: 1m 1s\tremaining: 3m 45s\n",
      "213:\tlearn: 0.6806493\ttotal: 1m 1s\tremaining: 3m 45s\n",
      "214:\tlearn: 0.6803395\ttotal: 1m 1s\tremaining: 3m 44s\n",
      "215:\tlearn: 0.6799504\ttotal: 1m 1s\tremaining: 3m 44s\n",
      "216:\tlearn: 0.6794895\ttotal: 1m 2s\tremaining: 3m 44s\n",
      "217:\tlearn: 0.6789283\ttotal: 1m 2s\tremaining: 3m 43s\n",
      "218:\tlearn: 0.6786313\ttotal: 1m 2s\tremaining: 3m 43s\n",
      "219:\tlearn: 0.6779531\ttotal: 1m 3s\tremaining: 3m 43s\n",
      "220:\tlearn: 0.6770213\ttotal: 1m 3s\tremaining: 3m 43s\n",
      "221:\tlearn: 0.6764050\ttotal: 1m 3s\tremaining: 3m 43s\n",
      "222:\tlearn: 0.6761356\ttotal: 1m 3s\tremaining: 3m 42s\n",
      "223:\tlearn: 0.6756571\ttotal: 1m 4s\tremaining: 3m 42s\n",
      "224:\tlearn: 0.6755171\ttotal: 1m 4s\tremaining: 3m 42s\n",
      "225:\tlearn: 0.6753173\ttotal: 1m 4s\tremaining: 3m 41s\n",
      "226:\tlearn: 0.6750082\ttotal: 1m 5s\tremaining: 3m 41s\n",
      "227:\tlearn: 0.6746302\ttotal: 1m 5s\tremaining: 3m 41s\n",
      "228:\tlearn: 0.6743504\ttotal: 1m 5s\tremaining: 3m 40s\n",
      "229:\tlearn: 0.6736384\ttotal: 1m 5s\tremaining: 3m 40s\n",
      "230:\tlearn: 0.6734360\ttotal: 1m 6s\tremaining: 3m 40s\n",
      "231:\tlearn: 0.6731383\ttotal: 1m 6s\tremaining: 3m 40s\n",
      "232:\tlearn: 0.6725504\ttotal: 1m 6s\tremaining: 3m 39s\n",
      "233:\tlearn: 0.6722702\ttotal: 1m 7s\tremaining: 3m 39s\n",
      "234:\tlearn: 0.6720392\ttotal: 1m 7s\tremaining: 3m 39s\n",
      "235:\tlearn: 0.6717585\ttotal: 1m 7s\tremaining: 3m 38s\n",
      "236:\tlearn: 0.6713601\ttotal: 1m 7s\tremaining: 3m 38s\n",
      "237:\tlearn: 0.6712293\ttotal: 1m 8s\tremaining: 3m 38s\n",
      "238:\tlearn: 0.6707329\ttotal: 1m 8s\tremaining: 3m 38s\n",
      "239:\tlearn: 0.6701979\ttotal: 1m 8s\tremaining: 3m 37s\n",
      "240:\tlearn: 0.6700697\ttotal: 1m 9s\tremaining: 3m 37s\n",
      "241:\tlearn: 0.6698720\ttotal: 1m 9s\tremaining: 3m 37s\n",
      "242:\tlearn: 0.6695357\ttotal: 1m 9s\tremaining: 3m 36s\n",
      "243:\tlearn: 0.6694469\ttotal: 1m 9s\tremaining: 3m 36s\n",
      "244:\tlearn: 0.6690084\ttotal: 1m 10s\tremaining: 3m 36s\n",
      "245:\tlearn: 0.6689212\ttotal: 1m 10s\tremaining: 3m 36s\n",
      "246:\tlearn: 0.6686102\ttotal: 1m 10s\tremaining: 3m 35s\n",
      "247:\tlearn: 0.6681215\ttotal: 1m 11s\tremaining: 3m 35s\n",
      "248:\tlearn: 0.6678093\ttotal: 1m 11s\tremaining: 3m 35s\n",
      "249:\tlearn: 0.6676295\ttotal: 1m 11s\tremaining: 3m 34s\n",
      "250:\tlearn: 0.6670235\ttotal: 1m 11s\tremaining: 3m 34s\n",
      "251:\tlearn: 0.6667948\ttotal: 1m 12s\tremaining: 3m 34s\n",
      "252:\tlearn: 0.6665328\ttotal: 1m 12s\tremaining: 3m 34s\n",
      "253:\tlearn: 0.6659750\ttotal: 1m 12s\tremaining: 3m 33s\n",
      "254:\tlearn: 0.6654314\ttotal: 1m 13s\tremaining: 3m 33s\n",
      "255:\tlearn: 0.6650137\ttotal: 1m 13s\tremaining: 3m 33s\n",
      "256:\tlearn: 0.6640849\ttotal: 1m 13s\tremaining: 3m 32s\n",
      "257:\tlearn: 0.6640166\ttotal: 1m 13s\tremaining: 3m 32s\n",
      "258:\tlearn: 0.6635890\ttotal: 1m 14s\tremaining: 3m 32s\n",
      "259:\tlearn: 0.6631397\ttotal: 1m 14s\tremaining: 3m 32s\n",
      "260:\tlearn: 0.6629176\ttotal: 1m 14s\tremaining: 3m 31s\n",
      "261:\tlearn: 0.6627943\ttotal: 1m 15s\tremaining: 3m 31s\n",
      "262:\tlearn: 0.6625668\ttotal: 1m 15s\tremaining: 3m 31s\n",
      "263:\tlearn: 0.6625032\ttotal: 1m 15s\tremaining: 3m 30s\n",
      "264:\tlearn: 0.6620682\ttotal: 1m 15s\tremaining: 3m 30s\n",
      "265:\tlearn: 0.6619096\ttotal: 1m 16s\tremaining: 3m 30s\n",
      "266:\tlearn: 0.6615036\ttotal: 1m 16s\tremaining: 3m 29s\n",
      "267:\tlearn: 0.6613944\ttotal: 1m 16s\tremaining: 3m 29s\n",
      "268:\tlearn: 0.6609219\ttotal: 1m 17s\tremaining: 3m 29s\n",
      "269:\tlearn: 0.6606383\ttotal: 1m 17s\tremaining: 3m 28s\n",
      "270:\tlearn: 0.6603356\ttotal: 1m 17s\tremaining: 3m 28s\n",
      "271:\tlearn: 0.6598835\ttotal: 1m 17s\tremaining: 3m 28s\n",
      "272:\tlearn: 0.6593568\ttotal: 1m 18s\tremaining: 3m 28s\n",
      "273:\tlearn: 0.6590975\ttotal: 1m 18s\tremaining: 3m 27s\n",
      "274:\tlearn: 0.6590266\ttotal: 1m 18s\tremaining: 3m 27s\n",
      "275:\tlearn: 0.6583262\ttotal: 1m 19s\tremaining: 3m 27s\n",
      "276:\tlearn: 0.6582352\ttotal: 1m 19s\tremaining: 3m 26s\n",
      "277:\tlearn: 0.6579184\ttotal: 1m 19s\tremaining: 3m 26s\n",
      "278:\tlearn: 0.6574935\ttotal: 1m 19s\tremaining: 3m 26s\n",
      "279:\tlearn: 0.6568728\ttotal: 1m 20s\tremaining: 3m 26s\n",
      "280:\tlearn: 0.6566093\ttotal: 1m 20s\tremaining: 3m 25s\n",
      "281:\tlearn: 0.6560783\ttotal: 1m 20s\tremaining: 3m 25s\n",
      "282:\tlearn: 0.6558351\ttotal: 1m 21s\tremaining: 3m 25s\n",
      "283:\tlearn: 0.6556793\ttotal: 1m 21s\tremaining: 3m 25s\n",
      "284:\tlearn: 0.6553828\ttotal: 1m 21s\tremaining: 3m 24s\n",
      "285:\tlearn: 0.6551436\ttotal: 1m 21s\tremaining: 3m 24s\n",
      "286:\tlearn: 0.6548708\ttotal: 1m 22s\tremaining: 3m 24s\n",
      "287:\tlearn: 0.6545213\ttotal: 1m 22s\tremaining: 3m 23s\n",
      "288:\tlearn: 0.6544455\ttotal: 1m 22s\tremaining: 3m 23s\n",
      "289:\tlearn: 0.6540922\ttotal: 1m 22s\tremaining: 3m 23s\n",
      "290:\tlearn: 0.6538884\ttotal: 1m 23s\tremaining: 3m 22s\n",
      "291:\tlearn: 0.6536989\ttotal: 1m 23s\tremaining: 3m 22s\n",
      "292:\tlearn: 0.6533042\ttotal: 1m 23s\tremaining: 3m 22s\n",
      "293:\tlearn: 0.6528809\ttotal: 1m 24s\tremaining: 3m 22s\n",
      "294:\tlearn: 0.6527034\ttotal: 1m 24s\tremaining: 3m 21s\n",
      "295:\tlearn: 0.6526522\ttotal: 1m 24s\tremaining: 3m 21s\n",
      "296:\tlearn: 0.6523637\ttotal: 1m 24s\tremaining: 3m 21s\n",
      "297:\tlearn: 0.6521111\ttotal: 1m 25s\tremaining: 3m 20s\n",
      "298:\tlearn: 0.6519291\ttotal: 1m 25s\tremaining: 3m 20s\n",
      "299:\tlearn: 0.6518486\ttotal: 1m 25s\tremaining: 3m 20s\n",
      "300:\tlearn: 0.6517554\ttotal: 1m 26s\tremaining: 3m 19s\n",
      "301:\tlearn: 0.6511632\ttotal: 1m 26s\tremaining: 3m 19s\n",
      "302:\tlearn: 0.6506862\ttotal: 1m 26s\tremaining: 3m 19s\n",
      "303:\tlearn: 0.6504300\ttotal: 1m 26s\tremaining: 3m 19s\n",
      "304:\tlearn: 0.6501158\ttotal: 1m 27s\tremaining: 3m 18s\n",
      "305:\tlearn: 0.6500514\ttotal: 1m 27s\tremaining: 3m 18s\n",
      "306:\tlearn: 0.6499577\ttotal: 1m 27s\tremaining: 3m 18s\n",
      "307:\tlearn: 0.6497302\ttotal: 1m 28s\tremaining: 3m 17s\n",
      "308:\tlearn: 0.6495073\ttotal: 1m 28s\tremaining: 3m 17s\n",
      "309:\tlearn: 0.6493897\ttotal: 1m 28s\tremaining: 3m 17s\n",
      "310:\tlearn: 0.6492535\ttotal: 1m 28s\tremaining: 3m 17s\n",
      "311:\tlearn: 0.6490051\ttotal: 1m 29s\tremaining: 3m 16s\n",
      "312:\tlearn: 0.6485704\ttotal: 1m 29s\tremaining: 3m 16s\n",
      "313:\tlearn: 0.6483899\ttotal: 1m 29s\tremaining: 3m 16s\n",
      "314:\tlearn: 0.6482976\ttotal: 1m 30s\tremaining: 3m 15s\n",
      "315:\tlearn: 0.6480091\ttotal: 1m 30s\tremaining: 3m 15s\n",
      "316:\tlearn: 0.6479652\ttotal: 1m 30s\tremaining: 3m 15s\n",
      "317:\tlearn: 0.6474446\ttotal: 1m 30s\tremaining: 3m 14s\n",
      "318:\tlearn: 0.6469683\ttotal: 1m 31s\tremaining: 3m 14s\n",
      "319:\tlearn: 0.6468029\ttotal: 1m 31s\tremaining: 3m 14s\n",
      "320:\tlearn: 0.6467233\ttotal: 1m 31s\tremaining: 3m 14s\n",
      "321:\tlearn: 0.6462262\ttotal: 1m 32s\tremaining: 3m 13s\n",
      "322:\tlearn: 0.6457962\ttotal: 1m 32s\tremaining: 3m 13s\n",
      "323:\tlearn: 0.6455735\ttotal: 1m 32s\tremaining: 3m 13s\n",
      "324:\tlearn: 0.6451856\ttotal: 1m 32s\tremaining: 3m 12s\n",
      "325:\tlearn: 0.6449327\ttotal: 1m 33s\tremaining: 3m 12s\n",
      "326:\tlearn: 0.6448506\ttotal: 1m 33s\tremaining: 3m 12s\n",
      "327:\tlearn: 0.6445784\ttotal: 1m 33s\tremaining: 3m 12s\n",
      "328:\tlearn: 0.6444134\ttotal: 1m 34s\tremaining: 3m 11s\n",
      "329:\tlearn: 0.6443374\ttotal: 1m 34s\tremaining: 3m 11s\n",
      "330:\tlearn: 0.6440404\ttotal: 1m 34s\tremaining: 3m 11s\n",
      "331:\tlearn: 0.6438503\ttotal: 1m 34s\tremaining: 3m 10s\n",
      "332:\tlearn: 0.6435791\ttotal: 1m 35s\tremaining: 3m 10s\n",
      "333:\tlearn: 0.6435359\ttotal: 1m 35s\tremaining: 3m 10s\n",
      "334:\tlearn: 0.6434083\ttotal: 1m 35s\tremaining: 3m 9s\n",
      "335:\tlearn: 0.6429723\ttotal: 1m 35s\tremaining: 3m 9s\n",
      "336:\tlearn: 0.6427724\ttotal: 1m 36s\tremaining: 3m 9s\n",
      "337:\tlearn: 0.6423964\ttotal: 1m 36s\tremaining: 3m 9s\n",
      "338:\tlearn: 0.6423312\ttotal: 1m 36s\tremaining: 3m 8s\n",
      "339:\tlearn: 0.6422378\ttotal: 1m 37s\tremaining: 3m 8s\n",
      "340:\tlearn: 0.6420230\ttotal: 1m 37s\tremaining: 3m 8s\n",
      "341:\tlearn: 0.6419871\ttotal: 1m 37s\tremaining: 3m 7s\n",
      "342:\tlearn: 0.6418883\ttotal: 1m 37s\tremaining: 3m 7s\n",
      "343:\tlearn: 0.6417277\ttotal: 1m 38s\tremaining: 3m 7s\n",
      "344:\tlearn: 0.6416457\ttotal: 1m 38s\tremaining: 3m 6s\n",
      "345:\tlearn: 0.6415277\ttotal: 1m 38s\tremaining: 3m 6s\n",
      "346:\tlearn: 0.6414229\ttotal: 1m 39s\tremaining: 3m 6s\n",
      "347:\tlearn: 0.6412857\ttotal: 1m 39s\tremaining: 3m 6s\n",
      "348:\tlearn: 0.6409724\ttotal: 1m 39s\tremaining: 3m 5s\n",
      "349:\tlearn: 0.6408627\ttotal: 1m 39s\tremaining: 3m 5s\n",
      "350:\tlearn: 0.6407787\ttotal: 1m 40s\tremaining: 3m 5s\n",
      "351:\tlearn: 0.6406626\ttotal: 1m 40s\tremaining: 3m 4s\n",
      "352:\tlearn: 0.6406372\ttotal: 1m 40s\tremaining: 3m 4s\n",
      "353:\tlearn: 0.6404836\ttotal: 1m 40s\tremaining: 3m 4s\n",
      "354:\tlearn: 0.6402948\ttotal: 1m 41s\tremaining: 3m 3s\n",
      "355:\tlearn: 0.6401644\ttotal: 1m 41s\tremaining: 3m 3s\n",
      "356:\tlearn: 0.6401066\ttotal: 1m 41s\tremaining: 3m 3s\n",
      "357:\tlearn: 0.6399270\ttotal: 1m 42s\tremaining: 3m 3s\n",
      "358:\tlearn: 0.6398918\ttotal: 1m 42s\tremaining: 3m 2s\n",
      "359:\tlearn: 0.6398408\ttotal: 1m 42s\tremaining: 3m 2s\n",
      "360:\tlearn: 0.6397269\ttotal: 1m 42s\tremaining: 3m 2s\n",
      "361:\tlearn: 0.6393695\ttotal: 1m 43s\tremaining: 3m 1s\n",
      "362:\tlearn: 0.6392570\ttotal: 1m 43s\tremaining: 3m 1s\n",
      "363:\tlearn: 0.6389787\ttotal: 1m 43s\tremaining: 3m 1s\n",
      "364:\tlearn: 0.6389584\ttotal: 1m 44s\tremaining: 3m 1s\n",
      "365:\tlearn: 0.6388238\ttotal: 1m 44s\tremaining: 3m\n",
      "366:\tlearn: 0.6385049\ttotal: 1m 44s\tremaining: 3m\n",
      "367:\tlearn: 0.6383431\ttotal: 1m 44s\tremaining: 3m\n",
      "368:\tlearn: 0.6379030\ttotal: 1m 45s\tremaining: 2m 59s\n",
      "369:\tlearn: 0.6377528\ttotal: 1m 45s\tremaining: 2m 59s\n",
      "370:\tlearn: 0.6372330\ttotal: 1m 45s\tremaining: 2m 59s\n",
      "371:\tlearn: 0.6370574\ttotal: 1m 46s\tremaining: 2m 59s\n",
      "372:\tlearn: 0.6368937\ttotal: 1m 46s\tremaining: 2m 58s\n",
      "373:\tlearn: 0.6367269\ttotal: 1m 46s\tremaining: 2m 58s\n",
      "374:\tlearn: 0.6365826\ttotal: 1m 46s\tremaining: 2m 58s\n",
      "375:\tlearn: 0.6364568\ttotal: 1m 47s\tremaining: 2m 57s\n",
      "376:\tlearn: 0.6363970\ttotal: 1m 47s\tremaining: 2m 57s\n",
      "377:\tlearn: 0.6359871\ttotal: 1m 47s\tremaining: 2m 57s\n",
      "378:\tlearn: 0.6358218\ttotal: 1m 48s\tremaining: 2m 57s\n",
      "379:\tlearn: 0.6357090\ttotal: 1m 48s\tremaining: 2m 56s\n",
      "380:\tlearn: 0.6354092\ttotal: 1m 48s\tremaining: 2m 56s\n",
      "381:\tlearn: 0.6352417\ttotal: 1m 48s\tremaining: 2m 56s\n",
      "382:\tlearn: 0.6348787\ttotal: 1m 49s\tremaining: 2m 55s\n",
      "383:\tlearn: 0.6345319\ttotal: 1m 49s\tremaining: 2m 55s\n",
      "384:\tlearn: 0.6344439\ttotal: 1m 49s\tremaining: 2m 55s\n",
      "385:\tlearn: 0.6343506\ttotal: 1m 50s\tremaining: 2m 55s\n",
      "386:\tlearn: 0.6342794\ttotal: 1m 50s\tremaining: 2m 54s\n",
      "387:\tlearn: 0.6341810\ttotal: 1m 50s\tremaining: 2m 54s\n",
      "388:\tlearn: 0.6340145\ttotal: 1m 50s\tremaining: 2m 54s\n",
      "389:\tlearn: 0.6339669\ttotal: 1m 51s\tremaining: 2m 53s\n",
      "390:\tlearn: 0.6338585\ttotal: 1m 51s\tremaining: 2m 53s\n",
      "391:\tlearn: 0.6336781\ttotal: 1m 51s\tremaining: 2m 53s\n",
      "392:\tlearn: 0.6336453\ttotal: 1m 51s\tremaining: 2m 52s\n",
      "393:\tlearn: 0.6335384\ttotal: 1m 52s\tremaining: 2m 52s\n",
      "394:\tlearn: 0.6335195\ttotal: 1m 52s\tremaining: 2m 52s\n",
      "395:\tlearn: 0.6333293\ttotal: 1m 52s\tremaining: 2m 52s\n",
      "396:\tlearn: 0.6330969\ttotal: 1m 53s\tremaining: 2m 51s\n",
      "397:\tlearn: 0.6329233\ttotal: 1m 53s\tremaining: 2m 51s\n",
      "398:\tlearn: 0.6328738\ttotal: 1m 53s\tremaining: 2m 51s\n",
      "399:\tlearn: 0.6326147\ttotal: 1m 53s\tremaining: 2m 50s\n",
      "400:\tlearn: 0.6325420\ttotal: 1m 54s\tremaining: 2m 50s\n",
      "401:\tlearn: 0.6325025\ttotal: 1m 54s\tremaining: 2m 50s\n",
      "402:\tlearn: 0.6322909\ttotal: 1m 54s\tremaining: 2m 49s\n",
      "403:\tlearn: 0.6322608\ttotal: 1m 55s\tremaining: 2m 49s\n",
      "404:\tlearn: 0.6322160\ttotal: 1m 55s\tremaining: 2m 49s\n",
      "405:\tlearn: 0.6321668\ttotal: 1m 55s\tremaining: 2m 49s\n",
      "406:\tlearn: 0.6318111\ttotal: 1m 55s\tremaining: 2m 48s\n",
      "407:\tlearn: 0.6317839\ttotal: 1m 56s\tremaining: 2m 48s\n",
      "408:\tlearn: 0.6315373\ttotal: 1m 56s\tremaining: 2m 48s\n",
      "409:\tlearn: 0.6311799\ttotal: 1m 56s\tremaining: 2m 47s\n",
      "410:\tlearn: 0.6305975\ttotal: 1m 56s\tremaining: 2m 47s\n",
      "411:\tlearn: 0.6305409\ttotal: 1m 57s\tremaining: 2m 47s\n",
      "412:\tlearn: 0.6302897\ttotal: 1m 57s\tremaining: 2m 47s\n",
      "413:\tlearn: 0.6301642\ttotal: 1m 57s\tremaining: 2m 46s\n",
      "414:\tlearn: 0.6300376\ttotal: 1m 58s\tremaining: 2m 46s\n",
      "415:\tlearn: 0.6300092\ttotal: 1m 58s\tremaining: 2m 46s\n",
      "416:\tlearn: 0.6298735\ttotal: 1m 58s\tremaining: 2m 45s\n",
      "417:\tlearn: 0.6298351\ttotal: 1m 58s\tremaining: 2m 45s\n",
      "418:\tlearn: 0.6298069\ttotal: 1m 59s\tremaining: 2m 45s\n",
      "419:\tlearn: 0.6297819\ttotal: 1m 59s\tremaining: 2m 44s\n",
      "420:\tlearn: 0.6297244\ttotal: 1m 59s\tremaining: 2m 44s\n",
      "421:\tlearn: 0.6293137\ttotal: 2m\tremaining: 2m 44s\n",
      "422:\tlearn: 0.6292623\ttotal: 2m\tremaining: 2m 44s\n",
      "423:\tlearn: 0.6287013\ttotal: 2m\tremaining: 2m 43s\n",
      "424:\tlearn: 0.6285016\ttotal: 2m\tremaining: 2m 43s\n",
      "425:\tlearn: 0.6284602\ttotal: 2m 1s\tremaining: 2m 43s\n",
      "426:\tlearn: 0.6283976\ttotal: 2m 1s\tremaining: 2m 43s\n",
      "427:\tlearn: 0.6282327\ttotal: 2m 1s\tremaining: 2m 42s\n",
      "428:\tlearn: 0.6281648\ttotal: 2m 2s\tremaining: 2m 42s\n",
      "429:\tlearn: 0.6277491\ttotal: 2m 2s\tremaining: 2m 42s\n",
      "430:\tlearn: 0.6277056\ttotal: 2m 2s\tremaining: 2m 41s\n",
      "431:\tlearn: 0.6275945\ttotal: 2m 2s\tremaining: 2m 41s\n",
      "432:\tlearn: 0.6275418\ttotal: 2m 3s\tremaining: 2m 41s\n",
      "433:\tlearn: 0.6274984\ttotal: 2m 3s\tremaining: 2m 40s\n",
      "434:\tlearn: 0.6274737\ttotal: 2m 3s\tremaining: 2m 40s\n",
      "435:\tlearn: 0.6273462\ttotal: 2m 4s\tremaining: 2m 40s\n",
      "436:\tlearn: 0.6271865\ttotal: 2m 4s\tremaining: 2m 40s\n",
      "437:\tlearn: 0.6270829\ttotal: 2m 4s\tremaining: 2m 39s\n",
      "438:\tlearn: 0.6270015\ttotal: 2m 4s\tremaining: 2m 39s\n",
      "439:\tlearn: 0.6269591\ttotal: 2m 5s\tremaining: 2m 39s\n",
      "440:\tlearn: 0.6269232\ttotal: 2m 5s\tremaining: 2m 38s\n",
      "441:\tlearn: 0.6268056\ttotal: 2m 5s\tremaining: 2m 38s\n",
      "442:\tlearn: 0.6266921\ttotal: 2m 5s\tremaining: 2m 38s\n",
      "443:\tlearn: 0.6266609\ttotal: 2m 6s\tremaining: 2m 38s\n",
      "444:\tlearn: 0.6266301\ttotal: 2m 6s\tremaining: 2m 37s\n",
      "445:\tlearn: 0.6265831\ttotal: 2m 6s\tremaining: 2m 37s\n",
      "446:\tlearn: 0.6262192\ttotal: 2m 7s\tremaining: 2m 37s\n",
      "447:\tlearn: 0.6261471\ttotal: 2m 7s\tremaining: 2m 36s\n",
      "448:\tlearn: 0.6259106\ttotal: 2m 7s\tremaining: 2m 36s\n",
      "449:\tlearn: 0.6258298\ttotal: 2m 7s\tremaining: 2m 36s\n",
      "450:\tlearn: 0.6256607\ttotal: 2m 8s\tremaining: 2m 36s\n",
      "451:\tlearn: 0.6256008\ttotal: 2m 8s\tremaining: 2m 35s\n",
      "452:\tlearn: 0.6255415\ttotal: 2m 8s\tremaining: 2m 35s\n",
      "453:\tlearn: 0.6254036\ttotal: 2m 9s\tremaining: 2m 35s\n",
      "454:\tlearn: 0.6252610\ttotal: 2m 9s\tremaining: 2m 34s\n",
      "455:\tlearn: 0.6250833\ttotal: 2m 9s\tremaining: 2m 34s\n",
      "456:\tlearn: 0.6250440\ttotal: 2m 9s\tremaining: 2m 34s\n",
      "457:\tlearn: 0.6248130\ttotal: 2m 10s\tremaining: 2m 34s\n",
      "458:\tlearn: 0.6247581\ttotal: 2m 10s\tremaining: 2m 33s\n",
      "459:\tlearn: 0.6243198\ttotal: 2m 10s\tremaining: 2m 33s\n",
      "460:\tlearn: 0.6242118\ttotal: 2m 11s\tremaining: 2m 33s\n",
      "461:\tlearn: 0.6239304\ttotal: 2m 11s\tremaining: 2m 32s\n",
      "462:\tlearn: 0.6238911\ttotal: 2m 11s\tremaining: 2m 32s\n",
      "463:\tlearn: 0.6237966\ttotal: 2m 11s\tremaining: 2m 32s\n",
      "464:\tlearn: 0.6237463\ttotal: 2m 12s\tremaining: 2m 32s\n",
      "465:\tlearn: 0.6237282\ttotal: 2m 12s\tremaining: 2m 31s\n",
      "466:\tlearn: 0.6233355\ttotal: 2m 12s\tremaining: 2m 31s\n",
      "467:\tlearn: 0.6231294\ttotal: 2m 13s\tremaining: 2m 31s\n",
      "468:\tlearn: 0.6230771\ttotal: 2m 13s\tremaining: 2m 30s\n",
      "469:\tlearn: 0.6229673\ttotal: 2m 13s\tremaining: 2m 30s\n",
      "470:\tlearn: 0.6229451\ttotal: 2m 13s\tremaining: 2m 30s\n",
      "471:\tlearn: 0.6228523\ttotal: 2m 14s\tremaining: 2m 30s\n",
      "472:\tlearn: 0.6227167\ttotal: 2m 14s\tremaining: 2m 29s\n",
      "473:\tlearn: 0.6225325\ttotal: 2m 14s\tremaining: 2m 29s\n",
      "474:\tlearn: 0.6224310\ttotal: 2m 14s\tremaining: 2m 29s\n",
      "475:\tlearn: 0.6222265\ttotal: 2m 15s\tremaining: 2m 28s\n",
      "476:\tlearn: 0.6219884\ttotal: 2m 15s\tremaining: 2m 28s\n",
      "477:\tlearn: 0.6219575\ttotal: 2m 15s\tremaining: 2m 28s\n",
      "478:\tlearn: 0.6219206\ttotal: 2m 16s\tremaining: 2m 28s\n",
      "479:\tlearn: 0.6217799\ttotal: 2m 16s\tremaining: 2m 27s\n",
      "480:\tlearn: 0.6214217\ttotal: 2m 16s\tremaining: 2m 27s\n",
      "481:\tlearn: 0.6213706\ttotal: 2m 16s\tremaining: 2m 27s\n",
      "482:\tlearn: 0.6212634\ttotal: 2m 17s\tremaining: 2m 26s\n",
      "483:\tlearn: 0.6212392\ttotal: 2m 17s\tremaining: 2m 26s\n",
      "484:\tlearn: 0.6211411\ttotal: 2m 17s\tremaining: 2m 26s\n",
      "485:\tlearn: 0.6210453\ttotal: 2m 18s\tremaining: 2m 26s\n",
      "486:\tlearn: 0.6209826\ttotal: 2m 18s\tremaining: 2m 25s\n",
      "487:\tlearn: 0.6209353\ttotal: 2m 18s\tremaining: 2m 25s\n",
      "488:\tlearn: 0.6208926\ttotal: 2m 18s\tremaining: 2m 25s\n",
      "489:\tlearn: 0.6202323\ttotal: 2m 19s\tremaining: 2m 24s\n",
      "490:\tlearn: 0.6201643\ttotal: 2m 19s\tremaining: 2m 24s\n",
      "491:\tlearn: 0.6200483\ttotal: 2m 19s\tremaining: 2m 24s\n",
      "492:\tlearn: 0.6200025\ttotal: 2m 20s\tremaining: 2m 24s\n",
      "493:\tlearn: 0.6198754\ttotal: 2m 20s\tremaining: 2m 23s\n",
      "494:\tlearn: 0.6198337\ttotal: 2m 20s\tremaining: 2m 23s\n",
      "495:\tlearn: 0.6196839\ttotal: 2m 20s\tremaining: 2m 23s\n",
      "496:\tlearn: 0.6193898\ttotal: 2m 21s\tremaining: 2m 22s\n",
      "497:\tlearn: 0.6192128\ttotal: 2m 21s\tremaining: 2m 22s\n",
      "498:\tlearn: 0.6190126\ttotal: 2m 21s\tremaining: 2m 22s\n",
      "499:\tlearn: 0.6188415\ttotal: 2m 22s\tremaining: 2m 22s\n",
      "500:\tlearn: 0.6184112\ttotal: 2m 22s\tremaining: 2m 21s\n",
      "501:\tlearn: 0.6183861\ttotal: 2m 22s\tremaining: 2m 21s\n",
      "502:\tlearn: 0.6182686\ttotal: 2m 22s\tremaining: 2m 21s\n",
      "503:\tlearn: 0.6182292\ttotal: 2m 23s\tremaining: 2m 20s\n",
      "504:\tlearn: 0.6178567\ttotal: 2m 23s\tremaining: 2m 20s\n",
      "505:\tlearn: 0.6174600\ttotal: 2m 23s\tremaining: 2m 20s\n",
      "506:\tlearn: 0.6174006\ttotal: 2m 24s\tremaining: 2m 20s\n",
      "507:\tlearn: 0.6171679\ttotal: 2m 24s\tremaining: 2m 19s\n",
      "508:\tlearn: 0.6171380\ttotal: 2m 24s\tremaining: 2m 19s\n",
      "509:\tlearn: 0.6169897\ttotal: 2m 24s\tremaining: 2m 19s\n",
      "510:\tlearn: 0.6169334\ttotal: 2m 25s\tremaining: 2m 18s\n",
      "511:\tlearn: 0.6169116\ttotal: 2m 25s\tremaining: 2m 18s\n",
      "512:\tlearn: 0.6168892\ttotal: 2m 25s\tremaining: 2m 18s\n",
      "513:\tlearn: 0.6167637\ttotal: 2m 25s\tremaining: 2m 18s\n",
      "514:\tlearn: 0.6167217\ttotal: 2m 26s\tremaining: 2m 17s\n",
      "515:\tlearn: 0.6166944\ttotal: 2m 26s\tremaining: 2m 17s\n",
      "516:\tlearn: 0.6166540\ttotal: 2m 26s\tremaining: 2m 17s\n",
      "517:\tlearn: 0.6166076\ttotal: 2m 27s\tremaining: 2m 16s\n",
      "518:\tlearn: 0.6163230\ttotal: 2m 27s\tremaining: 2m 16s\n",
      "519:\tlearn: 0.6161254\ttotal: 2m 27s\tremaining: 2m 16s\n",
      "520:\tlearn: 0.6160659\ttotal: 2m 27s\tremaining: 2m 16s\n",
      "521:\tlearn: 0.6160384\ttotal: 2m 28s\tremaining: 2m 15s\n",
      "522:\tlearn: 0.6159751\ttotal: 2m 28s\tremaining: 2m 15s\n",
      "523:\tlearn: 0.6156196\ttotal: 2m 28s\tremaining: 2m 15s\n",
      "524:\tlearn: 0.6155600\ttotal: 2m 29s\tremaining: 2m 14s\n",
      "525:\tlearn: 0.6155318\ttotal: 2m 29s\tremaining: 2m 14s\n",
      "526:\tlearn: 0.6154580\ttotal: 2m 29s\tremaining: 2m 14s\n",
      "527:\tlearn: 0.6153710\ttotal: 2m 29s\tremaining: 2m 13s\n",
      "528:\tlearn: 0.6153503\ttotal: 2m 30s\tremaining: 2m 13s\n",
      "529:\tlearn: 0.6149909\ttotal: 2m 30s\tremaining: 2m 13s\n",
      "530:\tlearn: 0.6149528\ttotal: 2m 30s\tremaining: 2m 13s\n",
      "531:\tlearn: 0.6148041\ttotal: 2m 31s\tremaining: 2m 12s\n",
      "532:\tlearn: 0.6146755\ttotal: 2m 31s\tremaining: 2m 12s\n",
      "533:\tlearn: 0.6146236\ttotal: 2m 31s\tremaining: 2m 12s\n",
      "534:\tlearn: 0.6146017\ttotal: 2m 31s\tremaining: 2m 12s\n",
      "535:\tlearn: 0.6145803\ttotal: 2m 32s\tremaining: 2m 11s\n",
      "536:\tlearn: 0.6145520\ttotal: 2m 32s\tremaining: 2m 11s\n",
      "537:\tlearn: 0.6145242\ttotal: 2m 32s\tremaining: 2m 11s\n",
      "538:\tlearn: 0.6142193\ttotal: 2m 33s\tremaining: 2m 10s\n",
      "539:\tlearn: 0.6142004\ttotal: 2m 33s\tremaining: 2m 10s\n",
      "540:\tlearn: 0.6140591\ttotal: 2m 33s\tremaining: 2m 10s\n",
      "541:\tlearn: 0.6140124\ttotal: 2m 33s\tremaining: 2m 10s\n",
      "542:\tlearn: 0.6135143\ttotal: 2m 34s\tremaining: 2m 9s\n",
      "543:\tlearn: 0.6131779\ttotal: 2m 34s\tremaining: 2m 9s\n",
      "544:\tlearn: 0.6128023\ttotal: 2m 34s\tremaining: 2m 9s\n",
      "545:\tlearn: 0.6126370\ttotal: 2m 35s\tremaining: 2m 8s\n",
      "546:\tlearn: 0.6125778\ttotal: 2m 35s\tremaining: 2m 8s\n",
      "547:\tlearn: 0.6124908\ttotal: 2m 35s\tremaining: 2m 8s\n",
      "548:\tlearn: 0.6123422\ttotal: 2m 35s\tremaining: 2m 8s\n",
      "549:\tlearn: 0.6122895\ttotal: 2m 36s\tremaining: 2m 7s\n",
      "550:\tlearn: 0.6122532\ttotal: 2m 36s\tremaining: 2m 7s\n",
      "551:\tlearn: 0.6122315\ttotal: 2m 36s\tremaining: 2m 7s\n",
      "552:\tlearn: 0.6121528\ttotal: 2m 36s\tremaining: 2m 6s\n",
      "553:\tlearn: 0.6121194\ttotal: 2m 37s\tremaining: 2m 6s\n",
      "554:\tlearn: 0.6120138\ttotal: 2m 37s\tremaining: 2m 6s\n",
      "555:\tlearn: 0.6119835\ttotal: 2m 37s\tremaining: 2m 6s\n",
      "556:\tlearn: 0.6119294\ttotal: 2m 38s\tremaining: 2m 5s\n",
      "557:\tlearn: 0.6118888\ttotal: 2m 38s\tremaining: 2m 5s\n",
      "558:\tlearn: 0.6116815\ttotal: 2m 38s\tremaining: 2m 5s\n",
      "559:\tlearn: 0.6116374\ttotal: 2m 38s\tremaining: 2m 4s\n",
      "560:\tlearn: 0.6115220\ttotal: 2m 39s\tremaining: 2m 4s\n",
      "561:\tlearn: 0.6114897\ttotal: 2m 39s\tremaining: 2m 4s\n",
      "562:\tlearn: 0.6113842\ttotal: 2m 39s\tremaining: 2m 4s\n",
      "563:\tlearn: 0.6110309\ttotal: 2m 40s\tremaining: 2m 3s\n",
      "564:\tlearn: 0.6109526\ttotal: 2m 40s\tremaining: 2m 3s\n",
      "565:\tlearn: 0.6108864\ttotal: 2m 40s\tremaining: 2m 3s\n",
      "566:\tlearn: 0.6107425\ttotal: 2m 40s\tremaining: 2m 2s\n",
      "567:\tlearn: 0.6104028\ttotal: 2m 41s\tremaining: 2m 2s\n",
      "568:\tlearn: 0.6103717\ttotal: 2m 41s\tremaining: 2m 2s\n",
      "569:\tlearn: 0.6102765\ttotal: 2m 41s\tremaining: 2m 2s\n",
      "570:\tlearn: 0.6102116\ttotal: 2m 42s\tremaining: 2m 1s\n",
      "571:\tlearn: 0.6101692\ttotal: 2m 42s\tremaining: 2m 1s\n",
      "572:\tlearn: 0.6101392\ttotal: 2m 42s\tremaining: 2m 1s\n",
      "573:\tlearn: 0.6100905\ttotal: 2m 42s\tremaining: 2m\n",
      "574:\tlearn: 0.6100091\ttotal: 2m 43s\tremaining: 2m\n",
      "575:\tlearn: 0.6096085\ttotal: 2m 43s\tremaining: 2m\n",
      "576:\tlearn: 0.6094654\ttotal: 2m 43s\tremaining: 2m\n",
      "577:\tlearn: 0.6093369\ttotal: 2m 43s\tremaining: 1m 59s\n",
      "578:\tlearn: 0.6092529\ttotal: 2m 44s\tremaining: 1m 59s\n",
      "579:\tlearn: 0.6092117\ttotal: 2m 44s\tremaining: 1m 59s\n",
      "580:\tlearn: 0.6090945\ttotal: 2m 44s\tremaining: 1m 58s\n",
      "581:\tlearn: 0.6088688\ttotal: 2m 45s\tremaining: 1m 58s\n",
      "582:\tlearn: 0.6087786\ttotal: 2m 45s\tremaining: 1m 58s\n",
      "583:\tlearn: 0.6087545\ttotal: 2m 45s\tremaining: 1m 57s\n",
      "584:\tlearn: 0.6083809\ttotal: 2m 45s\tremaining: 1m 57s\n",
      "585:\tlearn: 0.6082414\ttotal: 2m 46s\tremaining: 1m 57s\n",
      "586:\tlearn: 0.6081152\ttotal: 2m 46s\tremaining: 1m 57s\n",
      "587:\tlearn: 0.6080726\ttotal: 2m 46s\tremaining: 1m 56s\n",
      "588:\tlearn: 0.6078886\ttotal: 2m 47s\tremaining: 1m 56s\n",
      "589:\tlearn: 0.6078503\ttotal: 2m 47s\tremaining: 1m 56s\n",
      "590:\tlearn: 0.6077136\ttotal: 2m 47s\tremaining: 1m 55s\n",
      "591:\tlearn: 0.6076446\ttotal: 2m 47s\tremaining: 1m 55s\n",
      "592:\tlearn: 0.6074228\ttotal: 2m 48s\tremaining: 1m 55s\n",
      "593:\tlearn: 0.6073817\ttotal: 2m 48s\tremaining: 1m 55s\n",
      "594:\tlearn: 0.6073409\ttotal: 2m 48s\tremaining: 1m 54s\n",
      "595:\tlearn: 0.6073103\ttotal: 2m 49s\tremaining: 1m 54s\n",
      "596:\tlearn: 0.6072766\ttotal: 2m 49s\tremaining: 1m 54s\n",
      "597:\tlearn: 0.6071788\ttotal: 2m 49s\tremaining: 1m 54s\n",
      "598:\tlearn: 0.6070307\ttotal: 2m 49s\tremaining: 1m 53s\n",
      "599:\tlearn: 0.6066654\ttotal: 2m 50s\tremaining: 1m 53s\n",
      "600:\tlearn: 0.6063907\ttotal: 2m 50s\tremaining: 1m 53s\n",
      "601:\tlearn: 0.6063277\ttotal: 2m 50s\tremaining: 1m 52s\n",
      "602:\tlearn: 0.6062862\ttotal: 2m 51s\tremaining: 1m 52s\n",
      "603:\tlearn: 0.6060687\ttotal: 2m 51s\tremaining: 1m 52s\n",
      "604:\tlearn: 0.6059748\ttotal: 2m 51s\tremaining: 1m 52s\n",
      "605:\tlearn: 0.6059346\ttotal: 2m 51s\tremaining: 1m 51s\n",
      "606:\tlearn: 0.6056667\ttotal: 2m 52s\tremaining: 1m 51s\n",
      "607:\tlearn: 0.6055029\ttotal: 2m 52s\tremaining: 1m 51s\n",
      "608:\tlearn: 0.6053499\ttotal: 2m 52s\tremaining: 1m 50s\n",
      "609:\tlearn: 0.6052936\ttotal: 2m 53s\tremaining: 1m 50s\n",
      "610:\tlearn: 0.6052242\ttotal: 2m 53s\tremaining: 1m 50s\n",
      "611:\tlearn: 0.6051976\ttotal: 2m 53s\tremaining: 1m 50s\n",
      "612:\tlearn: 0.6051217\ttotal: 2m 53s\tremaining: 1m 49s\n",
      "613:\tlearn: 0.6050517\ttotal: 2m 54s\tremaining: 1m 49s\n",
      "614:\tlearn: 0.6049064\ttotal: 2m 54s\tremaining: 1m 49s\n",
      "615:\tlearn: 0.6048715\ttotal: 2m 54s\tremaining: 1m 48s\n",
      "616:\tlearn: 0.6045687\ttotal: 2m 55s\tremaining: 1m 48s\n",
      "617:\tlearn: 0.6044740\ttotal: 2m 55s\tremaining: 1m 48s\n",
      "618:\tlearn: 0.6043918\ttotal: 2m 55s\tremaining: 1m 48s\n",
      "619:\tlearn: 0.6041944\ttotal: 2m 55s\tremaining: 1m 47s\n",
      "620:\tlearn: 0.6036838\ttotal: 2m 56s\tremaining: 1m 47s\n",
      "621:\tlearn: 0.6035306\ttotal: 2m 56s\tremaining: 1m 47s\n",
      "622:\tlearn: 0.6034745\ttotal: 2m 56s\tremaining: 1m 46s\n",
      "623:\tlearn: 0.6033959\ttotal: 2m 56s\tremaining: 1m 46s\n",
      "624:\tlearn: 0.6033624\ttotal: 2m 57s\tremaining: 1m 46s\n",
      "625:\tlearn: 0.6033415\ttotal: 2m 57s\tremaining: 1m 46s\n",
      "626:\tlearn: 0.6028995\ttotal: 2m 57s\tremaining: 1m 45s\n",
      "627:\tlearn: 0.6027312\ttotal: 2m 58s\tremaining: 1m 45s\n",
      "628:\tlearn: 0.6026775\ttotal: 2m 58s\tremaining: 1m 45s\n",
      "629:\tlearn: 0.6026500\ttotal: 2m 58s\tremaining: 1m 44s\n",
      "630:\tlearn: 0.6026055\ttotal: 2m 58s\tremaining: 1m 44s\n",
      "631:\tlearn: 0.6023136\ttotal: 2m 59s\tremaining: 1m 44s\n",
      "632:\tlearn: 0.6022866\ttotal: 2m 59s\tremaining: 1m 44s\n",
      "633:\tlearn: 0.6021914\ttotal: 2m 59s\tremaining: 1m 43s\n",
      "634:\tlearn: 0.6021273\ttotal: 3m\tremaining: 1m 43s\n",
      "635:\tlearn: 0.6020965\ttotal: 3m\tremaining: 1m 43s\n",
      "636:\tlearn: 0.6017689\ttotal: 3m\tremaining: 1m 42s\n",
      "637:\tlearn: 0.6017447\ttotal: 3m\tremaining: 1m 42s\n",
      "638:\tlearn: 0.6016884\ttotal: 3m 1s\tremaining: 1m 42s\n",
      "639:\tlearn: 0.6016711\ttotal: 3m 1s\tremaining: 1m 42s\n",
      "640:\tlearn: 0.6015651\ttotal: 3m 1s\tremaining: 1m 41s\n",
      "641:\tlearn: 0.6015299\ttotal: 3m 2s\tremaining: 1m 41s\n",
      "642:\tlearn: 0.6013812\ttotal: 3m 2s\tremaining: 1m 41s\n",
      "643:\tlearn: 0.6013576\ttotal: 3m 2s\tremaining: 1m 40s\n",
      "644:\tlearn: 0.6013224\ttotal: 3m 2s\tremaining: 1m 40s\n",
      "645:\tlearn: 0.6011760\ttotal: 3m 3s\tremaining: 1m 40s\n",
      "646:\tlearn: 0.6011524\ttotal: 3m 3s\tremaining: 1m 40s\n",
      "647:\tlearn: 0.6011218\ttotal: 3m 3s\tremaining: 1m 39s\n",
      "648:\tlearn: 0.6008158\ttotal: 3m 4s\tremaining: 1m 39s\n",
      "649:\tlearn: 0.6007284\ttotal: 3m 4s\tremaining: 1m 39s\n",
      "650:\tlearn: 0.6006616\ttotal: 3m 4s\tremaining: 1m 38s\n",
      "651:\tlearn: 0.6005440\ttotal: 3m 4s\tremaining: 1m 38s\n",
      "652:\tlearn: 0.6005080\ttotal: 3m 5s\tremaining: 1m 38s\n",
      "653:\tlearn: 0.6004257\ttotal: 3m 5s\tremaining: 1m 38s\n",
      "654:\tlearn: 0.6003746\ttotal: 3m 5s\tremaining: 1m 37s\n",
      "655:\tlearn: 0.6000283\ttotal: 3m 6s\tremaining: 1m 37s\n",
      "656:\tlearn: 0.6000066\ttotal: 3m 6s\tremaining: 1m 37s\n",
      "657:\tlearn: 0.5999261\ttotal: 3m 6s\tremaining: 1m 36s\n",
      "658:\tlearn: 0.5998732\ttotal: 3m 6s\tremaining: 1m 36s\n",
      "659:\tlearn: 0.5997763\ttotal: 3m 7s\tremaining: 1m 36s\n",
      "660:\tlearn: 0.5997266\ttotal: 3m 7s\tremaining: 1m 36s\n",
      "661:\tlearn: 0.5996981\ttotal: 3m 7s\tremaining: 1m 35s\n",
      "662:\tlearn: 0.5996139\ttotal: 3m 7s\tremaining: 1m 35s\n",
      "663:\tlearn: 0.5993562\ttotal: 3m 8s\tremaining: 1m 35s\n",
      "664:\tlearn: 0.5993219\ttotal: 3m 8s\tremaining: 1m 34s\n",
      "665:\tlearn: 0.5992872\ttotal: 3m 8s\tremaining: 1m 34s\n",
      "666:\tlearn: 0.5991307\ttotal: 3m 9s\tremaining: 1m 34s\n",
      "667:\tlearn: 0.5991049\ttotal: 3m 9s\tremaining: 1m 34s\n",
      "668:\tlearn: 0.5990802\ttotal: 3m 9s\tremaining: 1m 33s\n",
      "669:\tlearn: 0.5990325\ttotal: 3m 9s\tremaining: 1m 33s\n",
      "670:\tlearn: 0.5989790\ttotal: 3m 10s\tremaining: 1m 33s\n",
      "671:\tlearn: 0.5987257\ttotal: 3m 10s\tremaining: 1m 32s\n",
      "672:\tlearn: 0.5986877\ttotal: 3m 10s\tremaining: 1m 32s\n",
      "673:\tlearn: 0.5986304\ttotal: 3m 11s\tremaining: 1m 32s\n",
      "674:\tlearn: 0.5985837\ttotal: 3m 11s\tremaining: 1m 32s\n",
      "675:\tlearn: 0.5985559\ttotal: 3m 11s\tremaining: 1m 31s\n",
      "676:\tlearn: 0.5984167\ttotal: 3m 11s\tremaining: 1m 31s\n",
      "677:\tlearn: 0.5982873\ttotal: 3m 12s\tremaining: 1m 31s\n",
      "678:\tlearn: 0.5982552\ttotal: 3m 12s\tremaining: 1m 31s\n",
      "679:\tlearn: 0.5980458\ttotal: 3m 12s\tremaining: 1m 30s\n",
      "680:\tlearn: 0.5979452\ttotal: 3m 13s\tremaining: 1m 30s\n",
      "681:\tlearn: 0.5978471\ttotal: 3m 13s\tremaining: 1m 30s\n",
      "682:\tlearn: 0.5977849\ttotal: 3m 13s\tremaining: 1m 29s\n",
      "683:\tlearn: 0.5975564\ttotal: 3m 13s\tremaining: 1m 29s\n",
      "684:\tlearn: 0.5975333\ttotal: 3m 14s\tremaining: 1m 29s\n",
      "685:\tlearn: 0.5974512\ttotal: 3m 14s\tremaining: 1m 29s\n",
      "686:\tlearn: 0.5973489\ttotal: 3m 14s\tremaining: 1m 28s\n",
      "687:\tlearn: 0.5973314\ttotal: 3m 15s\tremaining: 1m 28s\n",
      "688:\tlearn: 0.5973132\ttotal: 3m 15s\tremaining: 1m 28s\n",
      "689:\tlearn: 0.5972685\ttotal: 3m 15s\tremaining: 1m 27s\n",
      "690:\tlearn: 0.5971712\ttotal: 3m 15s\tremaining: 1m 27s\n",
      "691:\tlearn: 0.5971482\ttotal: 3m 16s\tremaining: 1m 27s\n",
      "692:\tlearn: 0.5971248\ttotal: 3m 16s\tremaining: 1m 27s\n",
      "693:\tlearn: 0.5970151\ttotal: 3m 16s\tremaining: 1m 26s\n",
      "694:\tlearn: 0.5968856\ttotal: 3m 16s\tremaining: 1m 26s\n",
      "695:\tlearn: 0.5968470\ttotal: 3m 17s\tremaining: 1m 26s\n",
      "696:\tlearn: 0.5967802\ttotal: 3m 17s\tremaining: 1m 25s\n",
      "697:\tlearn: 0.5967567\ttotal: 3m 17s\tremaining: 1m 25s\n",
      "698:\tlearn: 0.5967305\ttotal: 3m 18s\tremaining: 1m 25s\n",
      "699:\tlearn: 0.5966986\ttotal: 3m 18s\tremaining: 1m 25s\n",
      "700:\tlearn: 0.5966073\ttotal: 3m 18s\tremaining: 1m 24s\n",
      "701:\tlearn: 0.5965832\ttotal: 3m 18s\tremaining: 1m 24s\n",
      "702:\tlearn: 0.5964353\ttotal: 3m 19s\tremaining: 1m 24s\n",
      "703:\tlearn: 0.5964142\ttotal: 3m 19s\tremaining: 1m 23s\n",
      "704:\tlearn: 0.5961915\ttotal: 3m 19s\tremaining: 1m 23s\n",
      "705:\tlearn: 0.5961746\ttotal: 3m 20s\tremaining: 1m 23s\n",
      "706:\tlearn: 0.5961530\ttotal: 3m 20s\tremaining: 1m 23s\n",
      "707:\tlearn: 0.5961365\ttotal: 3m 20s\tremaining: 1m 22s\n",
      "708:\tlearn: 0.5961183\ttotal: 3m 20s\tremaining: 1m 22s\n",
      "709:\tlearn: 0.5960499\ttotal: 3m 21s\tremaining: 1m 22s\n",
      "710:\tlearn: 0.5960201\ttotal: 3m 21s\tremaining: 1m 21s\n",
      "711:\tlearn: 0.5959234\ttotal: 3m 21s\tremaining: 1m 21s\n",
      "712:\tlearn: 0.5959016\ttotal: 3m 22s\tremaining: 1m 21s\n",
      "713:\tlearn: 0.5958364\ttotal: 3m 22s\tremaining: 1m 21s\n",
      "714:\tlearn: 0.5957872\ttotal: 3m 22s\tremaining: 1m 20s\n",
      "715:\tlearn: 0.5957414\ttotal: 3m 22s\tremaining: 1m 20s\n",
      "716:\tlearn: 0.5956343\ttotal: 3m 23s\tremaining: 1m 20s\n",
      "717:\tlearn: 0.5955782\ttotal: 3m 23s\tremaining: 1m 19s\n",
      "718:\tlearn: 0.5955313\ttotal: 3m 23s\tremaining: 1m 19s\n",
      "719:\tlearn: 0.5953531\ttotal: 3m 23s\tremaining: 1m 19s\n",
      "720:\tlearn: 0.5952590\ttotal: 3m 24s\tremaining: 1m 19s\n",
      "721:\tlearn: 0.5951994\ttotal: 3m 24s\tremaining: 1m 18s\n",
      "722:\tlearn: 0.5951291\ttotal: 3m 24s\tremaining: 1m 18s\n",
      "723:\tlearn: 0.5950016\ttotal: 3m 25s\tremaining: 1m 18s\n",
      "724:\tlearn: 0.5946011\ttotal: 3m 25s\tremaining: 1m 17s\n",
      "725:\tlearn: 0.5945486\ttotal: 3m 25s\tremaining: 1m 17s\n",
      "726:\tlearn: 0.5945188\ttotal: 3m 25s\tremaining: 1m 17s\n",
      "727:\tlearn: 0.5943329\ttotal: 3m 26s\tremaining: 1m 17s\n",
      "728:\tlearn: 0.5942282\ttotal: 3m 26s\tremaining: 1m 16s\n",
      "729:\tlearn: 0.5942073\ttotal: 3m 26s\tremaining: 1m 16s\n",
      "730:\tlearn: 0.5940497\ttotal: 3m 27s\tremaining: 1m 16s\n",
      "731:\tlearn: 0.5940217\ttotal: 3m 27s\tremaining: 1m 15s\n",
      "732:\tlearn: 0.5939686\ttotal: 3m 27s\tremaining: 1m 15s\n",
      "733:\tlearn: 0.5938906\ttotal: 3m 27s\tremaining: 1m 15s\n",
      "734:\tlearn: 0.5938625\ttotal: 3m 28s\tremaining: 1m 15s\n",
      "735:\tlearn: 0.5938328\ttotal: 3m 28s\tremaining: 1m 14s\n",
      "736:\tlearn: 0.5936372\ttotal: 3m 28s\tremaining: 1m 14s\n",
      "737:\tlearn: 0.5935311\ttotal: 3m 29s\tremaining: 1m 14s\n",
      "738:\tlearn: 0.5934989\ttotal: 3m 29s\tremaining: 1m 13s\n",
      "739:\tlearn: 0.5934018\ttotal: 3m 29s\tremaining: 1m 13s\n",
      "740:\tlearn: 0.5932700\ttotal: 3m 29s\tremaining: 1m 13s\n",
      "741:\tlearn: 0.5932491\ttotal: 3m 30s\tremaining: 1m 13s\n",
      "742:\tlearn: 0.5932206\ttotal: 3m 30s\tremaining: 1m 12s\n",
      "743:\tlearn: 0.5931379\ttotal: 3m 30s\tremaining: 1m 12s\n",
      "744:\tlearn: 0.5931102\ttotal: 3m 30s\tremaining: 1m 12s\n",
      "745:\tlearn: 0.5930112\ttotal: 3m 31s\tremaining: 1m 11s\n",
      "746:\tlearn: 0.5927104\ttotal: 3m 31s\tremaining: 1m 11s\n",
      "747:\tlearn: 0.5926709\ttotal: 3m 31s\tremaining: 1m 11s\n",
      "748:\tlearn: 0.5926469\ttotal: 3m 32s\tremaining: 1m 11s\n",
      "749:\tlearn: 0.5926302\ttotal: 3m 32s\tremaining: 1m 10s\n",
      "750:\tlearn: 0.5925796\ttotal: 3m 32s\tremaining: 1m 10s\n",
      "751:\tlearn: 0.5925464\ttotal: 3m 32s\tremaining: 1m 10s\n",
      "752:\tlearn: 0.5925039\ttotal: 3m 33s\tremaining: 1m 9s\n",
      "753:\tlearn: 0.5924400\ttotal: 3m 33s\tremaining: 1m 9s\n",
      "754:\tlearn: 0.5923598\ttotal: 3m 33s\tremaining: 1m 9s\n",
      "755:\tlearn: 0.5923178\ttotal: 3m 34s\tremaining: 1m 9s\n",
      "756:\tlearn: 0.5922557\ttotal: 3m 34s\tremaining: 1m 8s\n",
      "757:\tlearn: 0.5920797\ttotal: 3m 34s\tremaining: 1m 8s\n",
      "758:\tlearn: 0.5919036\ttotal: 3m 34s\tremaining: 1m 8s\n",
      "759:\tlearn: 0.5918774\ttotal: 3m 35s\tremaining: 1m 7s\n",
      "760:\tlearn: 0.5917273\ttotal: 3m 35s\tremaining: 1m 7s\n",
      "761:\tlearn: 0.5916388\ttotal: 3m 35s\tremaining: 1m 7s\n",
      "762:\tlearn: 0.5915944\ttotal: 3m 36s\tremaining: 1m 7s\n",
      "763:\tlearn: 0.5915471\ttotal: 3m 36s\tremaining: 1m 6s\n",
      "764:\tlearn: 0.5914360\ttotal: 3m 36s\tremaining: 1m 6s\n",
      "765:\tlearn: 0.5914179\ttotal: 3m 36s\tremaining: 1m 6s\n",
      "766:\tlearn: 0.5913889\ttotal: 3m 37s\tremaining: 1m 5s\n",
      "767:\tlearn: 0.5912483\ttotal: 3m 37s\tremaining: 1m 5s\n",
      "768:\tlearn: 0.5909891\ttotal: 3m 37s\tremaining: 1m 5s\n",
      "769:\tlearn: 0.5909614\ttotal: 3m 37s\tremaining: 1m 5s\n",
      "770:\tlearn: 0.5908638\ttotal: 3m 38s\tremaining: 1m 4s\n",
      "771:\tlearn: 0.5908466\ttotal: 3m 38s\tremaining: 1m 4s\n",
      "772:\tlearn: 0.5908130\ttotal: 3m 38s\tremaining: 1m 4s\n",
      "773:\tlearn: 0.5907150\ttotal: 3m 39s\tremaining: 1m 3s\n",
      "774:\tlearn: 0.5906895\ttotal: 3m 39s\tremaining: 1m 3s\n",
      "775:\tlearn: 0.5906501\ttotal: 3m 39s\tremaining: 1m 3s\n",
      "776:\tlearn: 0.5906262\ttotal: 3m 39s\tremaining: 1m 3s\n",
      "777:\tlearn: 0.5906085\ttotal: 3m 40s\tremaining: 1m 2s\n",
      "778:\tlearn: 0.5905819\ttotal: 3m 40s\tremaining: 1m 2s\n",
      "779:\tlearn: 0.5905617\ttotal: 3m 40s\tremaining: 1m 2s\n",
      "780:\tlearn: 0.5903889\ttotal: 3m 41s\tremaining: 1m 1s\n",
      "781:\tlearn: 0.5903635\ttotal: 3m 41s\tremaining: 1m 1s\n",
      "782:\tlearn: 0.5903397\ttotal: 3m 41s\tremaining: 1m 1s\n",
      "783:\tlearn: 0.5903166\ttotal: 3m 41s\tremaining: 1m 1s\n",
      "784:\tlearn: 0.5902956\ttotal: 3m 42s\tremaining: 1m\n",
      "785:\tlearn: 0.5901989\ttotal: 3m 42s\tremaining: 1m\n",
      "786:\tlearn: 0.5900236\ttotal: 3m 42s\tremaining: 1m\n",
      "787:\tlearn: 0.5899866\ttotal: 3m 42s\tremaining: 60s\n",
      "788:\tlearn: 0.5899051\ttotal: 3m 43s\tremaining: 59.7s\n",
      "789:\tlearn: 0.5896836\ttotal: 3m 43s\tremaining: 59.4s\n",
      "790:\tlearn: 0.5896548\ttotal: 3m 43s\tremaining: 59.1s\n",
      "791:\tlearn: 0.5896060\ttotal: 3m 44s\tremaining: 58.9s\n",
      "792:\tlearn: 0.5895899\ttotal: 3m 44s\tremaining: 58.6s\n",
      "793:\tlearn: 0.5895182\ttotal: 3m 44s\tremaining: 58.3s\n",
      "794:\tlearn: 0.5894920\ttotal: 3m 44s\tremaining: 58s\n",
      "795:\tlearn: 0.5894331\ttotal: 3m 45s\tremaining: 57.7s\n",
      "796:\tlearn: 0.5892919\ttotal: 3m 45s\tremaining: 57.4s\n",
      "797:\tlearn: 0.5892419\ttotal: 3m 45s\tremaining: 57.2s\n",
      "798:\tlearn: 0.5891627\ttotal: 3m 46s\tremaining: 56.9s\n",
      "799:\tlearn: 0.5890993\ttotal: 3m 46s\tremaining: 56.6s\n",
      "800:\tlearn: 0.5887788\ttotal: 3m 46s\tremaining: 56.3s\n",
      "801:\tlearn: 0.5887098\ttotal: 3m 46s\tremaining: 56s\n",
      "802:\tlearn: 0.5886465\ttotal: 3m 47s\tremaining: 55.7s\n",
      "803:\tlearn: 0.5885971\ttotal: 3m 47s\tremaining: 55.4s\n",
      "804:\tlearn: 0.5885094\ttotal: 3m 47s\tremaining: 55.2s\n",
      "805:\tlearn: 0.5884682\ttotal: 3m 48s\tremaining: 54.9s\n",
      "806:\tlearn: 0.5884097\ttotal: 3m 48s\tremaining: 54.6s\n",
      "807:\tlearn: 0.5883751\ttotal: 3m 48s\tremaining: 54.3s\n",
      "808:\tlearn: 0.5883475\ttotal: 3m 48s\tremaining: 54s\n",
      "809:\tlearn: 0.5883099\ttotal: 3m 49s\tremaining: 53.7s\n",
      "810:\tlearn: 0.5882654\ttotal: 3m 49s\tremaining: 53.5s\n",
      "811:\tlearn: 0.5880158\ttotal: 3m 49s\tremaining: 53.2s\n",
      "812:\tlearn: 0.5879502\ttotal: 3m 49s\tremaining: 52.9s\n",
      "813:\tlearn: 0.5879312\ttotal: 3m 50s\tremaining: 52.6s\n",
      "814:\tlearn: 0.5878570\ttotal: 3m 50s\tremaining: 52.3s\n",
      "815:\tlearn: 0.5878350\ttotal: 3m 50s\tremaining: 52.1s\n",
      "816:\tlearn: 0.5877899\ttotal: 3m 51s\tremaining: 51.8s\n",
      "817:\tlearn: 0.5874978\ttotal: 3m 51s\tremaining: 51.5s\n",
      "818:\tlearn: 0.5874761\ttotal: 3m 51s\tremaining: 51.2s\n",
      "819:\tlearn: 0.5874301\ttotal: 3m 51s\tremaining: 50.9s\n",
      "820:\tlearn: 0.5874088\ttotal: 3m 52s\tremaining: 50.6s\n",
      "821:\tlearn: 0.5873864\ttotal: 3m 52s\tremaining: 50.4s\n",
      "822:\tlearn: 0.5873641\ttotal: 3m 52s\tremaining: 50.1s\n",
      "823:\tlearn: 0.5873049\ttotal: 3m 53s\tremaining: 49.8s\n",
      "824:\tlearn: 0.5872625\ttotal: 3m 53s\tremaining: 49.5s\n",
      "825:\tlearn: 0.5872448\ttotal: 3m 53s\tremaining: 49.2s\n",
      "826:\tlearn: 0.5869227\ttotal: 3m 53s\tremaining: 48.9s\n",
      "827:\tlearn: 0.5869040\ttotal: 3m 54s\tremaining: 48.7s\n",
      "828:\tlearn: 0.5868790\ttotal: 3m 54s\tremaining: 48.4s\n",
      "829:\tlearn: 0.5865763\ttotal: 3m 54s\tremaining: 48.1s\n",
      "830:\tlearn: 0.5865517\ttotal: 3m 55s\tremaining: 47.8s\n",
      "831:\tlearn: 0.5863018\ttotal: 3m 55s\tremaining: 47.5s\n",
      "832:\tlearn: 0.5862771\ttotal: 3m 55s\tremaining: 47.2s\n",
      "833:\tlearn: 0.5862488\ttotal: 3m 55s\tremaining: 47s\n",
      "834:\tlearn: 0.5861961\ttotal: 3m 56s\tremaining: 46.7s\n",
      "835:\tlearn: 0.5861675\ttotal: 3m 56s\tremaining: 46.4s\n",
      "836:\tlearn: 0.5861321\ttotal: 3m 56s\tremaining: 46.1s\n",
      "837:\tlearn: 0.5860043\ttotal: 3m 57s\tremaining: 45.8s\n",
      "838:\tlearn: 0.5859876\ttotal: 3m 57s\tremaining: 45.5s\n",
      "839:\tlearn: 0.5859574\ttotal: 3m 57s\tremaining: 45.3s\n",
      "840:\tlearn: 0.5859305\ttotal: 3m 57s\tremaining: 45s\n",
      "841:\tlearn: 0.5858800\ttotal: 3m 58s\tremaining: 44.7s\n",
      "842:\tlearn: 0.5858548\ttotal: 3m 58s\tremaining: 44.4s\n",
      "843:\tlearn: 0.5858283\ttotal: 3m 58s\tremaining: 44.1s\n",
      "844:\tlearn: 0.5857946\ttotal: 3m 58s\tremaining: 43.8s\n",
      "845:\tlearn: 0.5857591\ttotal: 3m 59s\tremaining: 43.6s\n",
      "846:\tlearn: 0.5857156\ttotal: 3m 59s\tremaining: 43.3s\n",
      "847:\tlearn: 0.5856766\ttotal: 3m 59s\tremaining: 43s\n",
      "848:\tlearn: 0.5856203\ttotal: 4m\tremaining: 42.7s\n",
      "849:\tlearn: 0.5855965\ttotal: 4m\tremaining: 42.4s\n",
      "850:\tlearn: 0.5855736\ttotal: 4m\tremaining: 42.1s\n",
      "851:\tlearn: 0.5855449\ttotal: 4m\tremaining: 41.9s\n",
      "852:\tlearn: 0.5852567\ttotal: 4m 1s\tremaining: 41.6s\n",
      "853:\tlearn: 0.5852261\ttotal: 4m 1s\tremaining: 41.3s\n",
      "854:\tlearn: 0.5851025\ttotal: 4m 1s\tremaining: 41s\n",
      "855:\tlearn: 0.5850769\ttotal: 4m 2s\tremaining: 40.7s\n",
      "856:\tlearn: 0.5848123\ttotal: 4m 2s\tremaining: 40.4s\n",
      "857:\tlearn: 0.5847736\ttotal: 4m 2s\tremaining: 40.2s\n",
      "858:\tlearn: 0.5847494\ttotal: 4m 2s\tremaining: 39.9s\n",
      "859:\tlearn: 0.5847185\ttotal: 4m 3s\tremaining: 39.6s\n",
      "860:\tlearn: 0.5844881\ttotal: 4m 3s\tremaining: 39.3s\n",
      "861:\tlearn: 0.5844696\ttotal: 4m 3s\tremaining: 39s\n",
      "862:\tlearn: 0.5844516\ttotal: 4m 4s\tremaining: 38.7s\n",
      "863:\tlearn: 0.5844108\ttotal: 4m 4s\tremaining: 38.5s\n",
      "864:\tlearn: 0.5843897\ttotal: 4m 4s\tremaining: 38.2s\n",
      "865:\tlearn: 0.5842395\ttotal: 4m 4s\tremaining: 37.9s\n",
      "866:\tlearn: 0.5842144\ttotal: 4m 5s\tremaining: 37.6s\n",
      "867:\tlearn: 0.5841853\ttotal: 4m 5s\tremaining: 37.3s\n",
      "868:\tlearn: 0.5839506\ttotal: 4m 5s\tremaining: 37s\n",
      "869:\tlearn: 0.5838545\ttotal: 4m 6s\tremaining: 36.8s\n",
      "870:\tlearn: 0.5838319\ttotal: 4m 6s\tremaining: 36.5s\n",
      "871:\tlearn: 0.5837114\ttotal: 4m 6s\tremaining: 36.2s\n",
      "872:\tlearn: 0.5836838\ttotal: 4m 6s\tremaining: 35.9s\n",
      "873:\tlearn: 0.5836490\ttotal: 4m 7s\tremaining: 35.6s\n",
      "874:\tlearn: 0.5835191\ttotal: 4m 7s\tremaining: 35.3s\n",
      "875:\tlearn: 0.5834633\ttotal: 4m 7s\tremaining: 35.1s\n",
      "876:\tlearn: 0.5832178\ttotal: 4m 8s\tremaining: 34.8s\n",
      "877:\tlearn: 0.5831729\ttotal: 4m 8s\tremaining: 34.5s\n",
      "878:\tlearn: 0.5831354\ttotal: 4m 8s\tremaining: 34.2s\n",
      "879:\tlearn: 0.5831163\ttotal: 4m 8s\tremaining: 33.9s\n",
      "880:\tlearn: 0.5830957\ttotal: 4m 9s\tremaining: 33.6s\n",
      "881:\tlearn: 0.5830711\ttotal: 4m 9s\tremaining: 33.4s\n",
      "882:\tlearn: 0.5828768\ttotal: 4m 9s\tremaining: 33.1s\n",
      "883:\tlearn: 0.5826689\ttotal: 4m 9s\tremaining: 32.8s\n",
      "884:\tlearn: 0.5826447\ttotal: 4m 10s\tremaining: 32.5s\n",
      "885:\tlearn: 0.5826254\ttotal: 4m 10s\tremaining: 32.2s\n",
      "886:\tlearn: 0.5825666\ttotal: 4m 10s\tremaining: 32s\n",
      "887:\tlearn: 0.5825488\ttotal: 4m 11s\tremaining: 31.7s\n",
      "888:\tlearn: 0.5825017\ttotal: 4m 11s\tremaining: 31.4s\n",
      "889:\tlearn: 0.5824548\ttotal: 4m 11s\tremaining: 31.1s\n",
      "890:\tlearn: 0.5823634\ttotal: 4m 11s\tremaining: 30.8s\n",
      "891:\tlearn: 0.5823353\ttotal: 4m 12s\tremaining: 30.5s\n",
      "892:\tlearn: 0.5823134\ttotal: 4m 12s\tremaining: 30.3s\n",
      "893:\tlearn: 0.5822295\ttotal: 4m 12s\tremaining: 30s\n",
      "894:\tlearn: 0.5821951\ttotal: 4m 13s\tremaining: 29.7s\n",
      "895:\tlearn: 0.5821649\ttotal: 4m 13s\tremaining: 29.4s\n",
      "896:\tlearn: 0.5821012\ttotal: 4m 13s\tremaining: 29.1s\n",
      "897:\tlearn: 0.5820715\ttotal: 4m 13s\tremaining: 28.8s\n",
      "898:\tlearn: 0.5820493\ttotal: 4m 14s\tremaining: 28.6s\n",
      "899:\tlearn: 0.5820163\ttotal: 4m 14s\tremaining: 28.3s\n",
      "900:\tlearn: 0.5819888\ttotal: 4m 14s\tremaining: 28s\n",
      "901:\tlearn: 0.5819518\ttotal: 4m 15s\tremaining: 27.7s\n",
      "902:\tlearn: 0.5818934\ttotal: 4m 15s\tremaining: 27.4s\n",
      "903:\tlearn: 0.5818483\ttotal: 4m 15s\tremaining: 27.1s\n",
      "904:\tlearn: 0.5818242\ttotal: 4m 15s\tremaining: 26.9s\n",
      "905:\tlearn: 0.5815389\ttotal: 4m 16s\tremaining: 26.6s\n",
      "906:\tlearn: 0.5815146\ttotal: 4m 16s\tremaining: 26.3s\n",
      "907:\tlearn: 0.5814888\ttotal: 4m 16s\tremaining: 26s\n",
      "908:\tlearn: 0.5814177\ttotal: 4m 17s\tremaining: 25.7s\n",
      "909:\tlearn: 0.5813851\ttotal: 4m 17s\tremaining: 25.4s\n",
      "910:\tlearn: 0.5813660\ttotal: 4m 17s\tremaining: 25.2s\n",
      "911:\tlearn: 0.5813012\ttotal: 4m 17s\tremaining: 24.9s\n",
      "912:\tlearn: 0.5812676\ttotal: 4m 18s\tremaining: 24.6s\n",
      "913:\tlearn: 0.5812313\ttotal: 4m 18s\tremaining: 24.3s\n",
      "914:\tlearn: 0.5810756\ttotal: 4m 18s\tremaining: 24s\n",
      "915:\tlearn: 0.5810532\ttotal: 4m 18s\tremaining: 23.7s\n",
      "916:\tlearn: 0.5809600\ttotal: 4m 19s\tremaining: 23.5s\n",
      "917:\tlearn: 0.5809312\ttotal: 4m 19s\tremaining: 23.2s\n",
      "918:\tlearn: 0.5805848\ttotal: 4m 19s\tremaining: 22.9s\n",
      "919:\tlearn: 0.5805277\ttotal: 4m 20s\tremaining: 22.6s\n",
      "920:\tlearn: 0.5804944\ttotal: 4m 20s\tremaining: 22.3s\n",
      "921:\tlearn: 0.5803591\ttotal: 4m 20s\tremaining: 22.1s\n",
      "922:\tlearn: 0.5803211\ttotal: 4m 20s\tremaining: 21.8s\n",
      "923:\tlearn: 0.5802978\ttotal: 4m 21s\tremaining: 21.5s\n",
      "924:\tlearn: 0.5802530\ttotal: 4m 21s\tremaining: 21.2s\n",
      "925:\tlearn: 0.5802338\ttotal: 4m 21s\tremaining: 20.9s\n",
      "926:\tlearn: 0.5800435\ttotal: 4m 22s\tremaining: 20.6s\n",
      "927:\tlearn: 0.5800124\ttotal: 4m 22s\tremaining: 20.4s\n",
      "928:\tlearn: 0.5799101\ttotal: 4m 22s\tremaining: 20.1s\n",
      "929:\tlearn: 0.5798083\ttotal: 4m 22s\tremaining: 19.8s\n",
      "930:\tlearn: 0.5797671\ttotal: 4m 23s\tremaining: 19.5s\n",
      "931:\tlearn: 0.5797117\ttotal: 4m 23s\tremaining: 19.2s\n",
      "932:\tlearn: 0.5796568\ttotal: 4m 23s\tremaining: 18.9s\n",
      "933:\tlearn: 0.5794991\ttotal: 4m 24s\tremaining: 18.7s\n",
      "934:\tlearn: 0.5794730\ttotal: 4m 24s\tremaining: 18.4s\n",
      "935:\tlearn: 0.5794369\ttotal: 4m 24s\tremaining: 18.1s\n",
      "936:\tlearn: 0.5793999\ttotal: 4m 24s\tremaining: 17.8s\n",
      "937:\tlearn: 0.5793786\ttotal: 4m 25s\tremaining: 17.5s\n",
      "938:\tlearn: 0.5793507\ttotal: 4m 25s\tremaining: 17.2s\n",
      "939:\tlearn: 0.5792997\ttotal: 4m 25s\tremaining: 17s\n",
      "940:\tlearn: 0.5792784\ttotal: 4m 25s\tremaining: 16.7s\n",
      "941:\tlearn: 0.5792345\ttotal: 4m 26s\tremaining: 16.4s\n",
      "942:\tlearn: 0.5791922\ttotal: 4m 26s\tremaining: 16.1s\n",
      "943:\tlearn: 0.5791296\ttotal: 4m 26s\tremaining: 15.8s\n",
      "944:\tlearn: 0.5790916\ttotal: 4m 27s\tremaining: 15.5s\n",
      "945:\tlearn: 0.5790713\ttotal: 4m 27s\tremaining: 15.3s\n",
      "946:\tlearn: 0.5789774\ttotal: 4m 27s\tremaining: 15s\n",
      "947:\tlearn: 0.5789555\ttotal: 4m 27s\tremaining: 14.7s\n",
      "948:\tlearn: 0.5789384\ttotal: 4m 28s\tremaining: 14.4s\n",
      "949:\tlearn: 0.5788632\ttotal: 4m 28s\tremaining: 14.1s\n",
      "950:\tlearn: 0.5788196\ttotal: 4m 28s\tremaining: 13.8s\n",
      "951:\tlearn: 0.5787910\ttotal: 4m 29s\tremaining: 13.6s\n",
      "952:\tlearn: 0.5787540\ttotal: 4m 29s\tremaining: 13.3s\n",
      "953:\tlearn: 0.5786494\ttotal: 4m 29s\tremaining: 13s\n",
      "954:\tlearn: 0.5783915\ttotal: 4m 29s\tremaining: 12.7s\n",
      "955:\tlearn: 0.5780843\ttotal: 4m 30s\tremaining: 12.4s\n",
      "956:\tlearn: 0.5780262\ttotal: 4m 30s\tremaining: 12.2s\n",
      "957:\tlearn: 0.5780042\ttotal: 4m 30s\tremaining: 11.9s\n",
      "958:\tlearn: 0.5779879\ttotal: 4m 31s\tremaining: 11.6s\n",
      "959:\tlearn: 0.5779660\ttotal: 4m 31s\tremaining: 11.3s\n",
      "960:\tlearn: 0.5776175\ttotal: 4m 31s\tremaining: 11s\n",
      "961:\tlearn: 0.5775472\ttotal: 4m 31s\tremaining: 10.7s\n",
      "962:\tlearn: 0.5775109\ttotal: 4m 32s\tremaining: 10.5s\n",
      "963:\tlearn: 0.5773944\ttotal: 4m 32s\tremaining: 10.2s\n",
      "964:\tlearn: 0.5773636\ttotal: 4m 32s\tremaining: 9.89s\n",
      "965:\tlearn: 0.5773308\ttotal: 4m 32s\tremaining: 9.61s\n",
      "966:\tlearn: 0.5772548\ttotal: 4m 33s\tremaining: 9.33s\n",
      "967:\tlearn: 0.5771696\ttotal: 4m 33s\tremaining: 9.04s\n",
      "968:\tlearn: 0.5771536\ttotal: 4m 33s\tremaining: 8.76s\n",
      "969:\tlearn: 0.5771200\ttotal: 4m 34s\tremaining: 8.48s\n",
      "970:\tlearn: 0.5770878\ttotal: 4m 34s\tremaining: 8.2s\n",
      "971:\tlearn: 0.5770607\ttotal: 4m 34s\tremaining: 7.91s\n",
      "972:\tlearn: 0.5768722\ttotal: 4m 34s\tremaining: 7.63s\n",
      "973:\tlearn: 0.5768469\ttotal: 4m 35s\tremaining: 7.35s\n",
      "974:\tlearn: 0.5767523\ttotal: 4m 35s\tremaining: 7.07s\n",
      "975:\tlearn: 0.5767374\ttotal: 4m 35s\tremaining: 6.78s\n",
      "976:\tlearn: 0.5766911\ttotal: 4m 36s\tremaining: 6.5s\n",
      "977:\tlearn: 0.5766097\ttotal: 4m 36s\tremaining: 6.22s\n",
      "978:\tlearn: 0.5765226\ttotal: 4m 36s\tremaining: 5.93s\n",
      "979:\tlearn: 0.5765027\ttotal: 4m 36s\tremaining: 5.65s\n",
      "980:\tlearn: 0.5764567\ttotal: 4m 37s\tremaining: 5.37s\n",
      "981:\tlearn: 0.5764034\ttotal: 4m 37s\tremaining: 5.09s\n",
      "982:\tlearn: 0.5763215\ttotal: 4m 37s\tremaining: 4.8s\n",
      "983:\tlearn: 0.5762886\ttotal: 4m 38s\tremaining: 4.52s\n",
      "984:\tlearn: 0.5762706\ttotal: 4m 38s\tremaining: 4.24s\n",
      "985:\tlearn: 0.5762190\ttotal: 4m 38s\tremaining: 3.96s\n",
      "986:\tlearn: 0.5760878\ttotal: 4m 38s\tremaining: 3.67s\n",
      "987:\tlearn: 0.5757502\ttotal: 4m 39s\tremaining: 3.39s\n",
      "988:\tlearn: 0.5757247\ttotal: 4m 39s\tremaining: 3.11s\n",
      "989:\tlearn: 0.5757038\ttotal: 4m 39s\tremaining: 2.83s\n",
      "990:\tlearn: 0.5756096\ttotal: 4m 40s\tremaining: 2.54s\n",
      "991:\tlearn: 0.5755141\ttotal: 4m 40s\tremaining: 2.26s\n",
      "992:\tlearn: 0.5753530\ttotal: 4m 40s\tremaining: 1.98s\n",
      "993:\tlearn: 0.5753170\ttotal: 4m 40s\tremaining: 1.7s\n",
      "994:\tlearn: 0.5752827\ttotal: 4m 41s\tremaining: 1.41s\n",
      "995:\tlearn: 0.5751918\ttotal: 4m 41s\tremaining: 1.13s\n",
      "996:\tlearn: 0.5751695\ttotal: 4m 41s\tremaining: 848ms\n",
      "997:\tlearn: 0.5751376\ttotal: 4m 42s\tremaining: 565ms\n",
      "998:\tlearn: 0.5751130\ttotal: 4m 42s\tremaining: 283ms\n",
      "999:\tlearn: 0.5750846\ttotal: 4m 42s\tremaining: 0us\n",
      "0.7272434866516565\n",
      "Evaluation for: Catboost\n",
      "Classifier 'Catboost' has Acc=0.727 P=0.838 R=0.727 F1=0.764\n",
      "               precision    recall  f1-score   support\n",
      "\n",
      "     negative      0.112     0.727     0.194        33\n",
      "      neutral      0.934     0.730     0.819      2508\n",
      "     positive      0.465     0.716     0.564       549\n",
      "very negative      0.000     0.000     0.000         0\n",
      "very positive      0.178     0.684     0.283        19\n",
      "\n",
      "     accuracy                          0.727      3109\n",
      "    macro avg      0.338     0.571     0.372      3109\n",
      " weighted avg      0.838     0.727     0.764      3109\n",
      "\n",
      "\n",
      "Confusion matrix:\n",
      " [[  24  186    5    0    0]\n",
      " [   7 1831  121    0    2]\n",
      " [   0  448  393    0    4]\n",
      " [   2   13    0    0    0]\n",
      " [   0   30   30    0   13]]\n"
     ]
    },
    {
     "name": "stderr",
     "output_type": "stream",
     "text": [
      "/usr/local/lib/python3.7/dist-packages/sklearn/metrics/_classification.py:1272: UndefinedMetricWarning: Recall is ill-defined and being set to 0.0 in labels with no true samples. Use `zero_division` parameter to control this behavior.\n",
      "  _warn_prf(average, modifier, msg_start, len(result))\n"
     ]
    }
   ],
   "source": [
    "from catboost import CatBoostClassifier, Pool, cv\n",
    "from sklearn.metrics import accuracy_score\n",
    "\n",
    "clf2 = CatBoostClassifier()\n",
    "clf2_mod = clf2.fit(train_features, train_labels)\n",
    "print(clf2_mod.score(validation_features, validation_labels))\n",
    "evaluation_summary(\"Catboost\", clf2_mod.predict(validation_features), validation_labels)\n"
   ]
  },
  {
   "cell_type": "code",
   "execution_count": 33,
   "metadata": {
    "colab": {
     "base_uri": "https://localhost:8080/"
    },
    "id": "JPnJkFrFuTy8",
    "outputId": "e5a5dd49-e3d2-4292-9455-2a314a6501bf"
   },
   "outputs": [
    {
     "name": "stdout",
     "output_type": "stream",
     "text": [
      "0.7280876494023905\n",
      "Evaluation for: Catboost\n",
      "Classifier 'Catboost' has Acc=0.728 P=0.834 R=0.728 F1=0.765\n",
      "               precision    recall  f1-score   support\n",
      "\n",
      "     negative      0.082     0.500     0.140        46\n",
      "      neutral      0.929     0.731     0.818      3195\n",
      "     positive      0.500     0.737     0.596       748\n",
      "very negative      0.031     0.500     0.059         2\n",
      "very positive      0.151     0.520     0.234        25\n",
      "\n",
      "     accuracy                          0.728      4016\n",
      "    macro avg      0.339     0.598     0.369      4016\n",
      " weighted avg      0.834     0.728     0.765      4016\n",
      "\n",
      "\n",
      "Confusion matrix:\n",
      " [[  23  251    7    1    0]\n",
      " [  18 2336  156    0    4]\n",
      " [   0  543  551    0    8]\n",
      " [   5   26    0    1    0]\n",
      " [   0   39   34    0   13]]\n"
     ]
    }
   ],
   "source": [
    "print(clf2_mod.score(test_features, test_labels))\n",
    "evaluation_summary(\"Catboost\", clf2_mod.predict(test_features), test_labels)"
   ]
  },
  {
   "cell_type": "code",
   "execution_count": 37,
   "metadata": {
    "colab": {
     "base_uri": "https://localhost:8080/",
     "height": 281
    },
    "id": "ZWuKf3F7NQ0s",
    "outputId": "444218d3-5f92-4a82-a8df-a9bf36acdb38"
   },
   "outputs": [
    {
     "data": {
      "image/png": "[encoded data removed]",
      "text/plain": [
       "<Figure size 432x288 with 1 Axes>"
      ]
     },
     "metadata": {
      "needs_background": "light",
      "tags": []
     },
     "output_type": "display_data"
    }
   ],
   "source": [
    "import matplotlib.pyplot as plt\n",
    "\n",
    "objects = ('negative ','neutral','positive','very negative','very positive')\n",
    "y_pos = np.arange(len(objects))\n",
    "performance = ['0.324', '0.825',  '0.672',   '0.211'    ,'0.350' ]\n",
    "\n",
    "plt.bar(y_pos, performance, align='center', alpha=0.5)\n",
    "plt.xticks(y_pos, objects)\n",
    "plt.ylabel('F1 Values')\n",
    "plt.title('Best Performer : LR with One hot with 75% of accuracy')\n",
    "\n",
    "plt.show()"
   ]
  },
  {
   "cell_type": "markdown",
   "metadata": {
    "id": "hiYQ-Atgx_yx"
   },
   "source": [
    "### LogisticRegression with TF-IDF vectorization with parameter tuning "
   ]
  },
  {
   "cell_type": "code",
   "execution_count": 34,
   "metadata": {
    "colab": {
     "base_uri": "https://localhost:8080/"
    },
    "id": "cE9eNO1rvRAM",
    "outputId": "649272fe-cd3d-4a06-a8ae-259c271a9255"
   },
   "outputs": [
    {
     "name": "stderr",
     "output_type": "stream",
     "text": [
      "/usr/local/lib/python3.7/dist-packages/sklearn/feature_extraction/text.py:385: UserWarning: Your stop_words may be inconsistent with your preprocessing. Tokenizing the stop words generated tokens ['ca', 'nt'] not in stop_words.\n",
      "  'stop_words.' % sorted(inconsistent))\n"
     ]
    }
   ],
   "source": [
    "\n",
    "vectorizerv = TfidfVectorizer(tokenizer=tokenize_normalize,ngram_range=(1,2) ,min_df=5, max_df=0.7, sublinear_tf=True,max_features=50000,stop_words = 'english',norm='l1')\n",
    "tfidv_train_features = vectorizerv.fit_transform(train_data['body'])\n",
    "tfidv_validation_features = vectorizerv.fit_transform(validation_data['body'])\n",
    "tfidv_test_features = vectorizerv.fit_transform(test_data['body'])\n"
   ]
  },
  {
   "cell_type": "code",
   "execution_count": 75,
   "metadata": {
    "colab": {
     "base_uri": "https://localhost:8080/"
    },
    "id": "BBXf0SaTyThV",
    "outputId": "d68b9d49-338d-4f60-e081-8abc9c4ca6f8"
   },
   "outputs": [
    {
     "name": "stdout",
     "output_type": "stream",
     "text": [
      "0.6310710839498231\n",
      "Evaluation for: LR TFIDF PART 2\n",
      "Classifier 'LR TFIDF PART 2' has Acc=0.631 P=0.999 R=0.631 F1=0.773\n",
      "               precision    recall  f1-score   support\n",
      "\n",
      "     negative      0.000     0.000     0.000         0\n",
      "      neutral      1.000     0.631     0.774      3107\n",
      "     positive      0.001     0.500     0.002         2\n",
      "very negative      0.000     0.000     0.000         0\n",
      "very positive      0.000     0.000     0.000         0\n",
      "\n",
      "     accuracy                          0.631      3109\n",
      "    macro avg      0.200     0.226     0.155      3109\n",
      " weighted avg      0.999     0.631     0.773      3109\n",
      "\n",
      "\n",
      "Confusion matrix:\n",
      " [[   0  214    1    0    0]\n",
      " [   0 1961    0    0    0]\n",
      " [   0  844    1    0    0]\n",
      " [   0   15    0    0    0]\n",
      " [   0   73    0    0    0]]\n"
     ]
    },
    {
     "name": "stderr",
     "output_type": "stream",
     "text": [
      "/usr/local/lib/python3.7/dist-packages/sklearn/metrics/_classification.py:1272: UndefinedMetricWarning: Recall is ill-defined and being set to 0.0 in labels with no true samples. Use `zero_division` parameter to control this behavior.\n",
      "  _warn_prf(average, modifier, msg_start, len(result))\n"
     ]
    }
   ],
   "source": [
    "lr = LogisticRegression(solver='saga',max_iter=100 , C=1)\n",
    "tfi_model = lr.fit(tfidv_train_features,train_labels)\n",
    "print(tfi_model.score(tfidv_validation_features, validation_labels))\n",
    "evaluation_summary(\"LR TFIDF PART 2\", tfi_model.predict(tfidv_validation_features), validation_labels) "
   ]
  },
  {
   "cell_type": "code",
   "execution_count": 76,
   "metadata": {
    "colab": {
     "base_uri": "https://localhost:8080/"
    },
    "id": "wd4OZ7mUyWJZ",
    "outputId": "e1ca2ab9-ba92-4567-f6fa-837018f4d7eb"
   },
   "outputs": [
    {
     "name": "stdout",
     "output_type": "stream",
     "text": [
      "0.6257470119521913\n",
      "Evaluation for: LR TFIDF\n",
      "Classifier 'LR TFIDF' has Acc=0.626 P=0.999 R=0.626 F1=0.770\n",
      "               precision    recall  f1-score   support\n",
      "\n",
      "     negative      0.000     0.000     0.000         0\n",
      "      neutral      1.000     0.626     0.770      4015\n",
      "     positive      0.000     0.000     0.000         1\n",
      "very negative      0.000     0.000     0.000         0\n",
      "very positive      0.000     0.000     0.000         0\n",
      "\n",
      "     accuracy                          0.626      4016\n",
      "    macro avg      0.200     0.125     0.154      4016\n",
      " weighted avg      0.999     0.626     0.770      4016\n",
      "\n",
      "\n",
      "Confusion matrix:\n",
      " [[   0  282    0    0    0]\n",
      " [   0 2513    1    0    0]\n",
      " [   0 1102    0    0    0]\n",
      " [   0   32    0    0    0]\n",
      " [   0   86    0    0    0]]\n"
     ]
    },
    {
     "name": "stderr",
     "output_type": "stream",
     "text": [
      "/usr/local/lib/python3.7/dist-packages/sklearn/metrics/_classification.py:1272: UndefinedMetricWarning: Recall is ill-defined and being set to 0.0 in labels with no true samples. Use `zero_division` parameter to control this behavior.\n",
      "  _warn_prf(average, modifier, msg_start, len(result))\n"
     ]
    }
   ],
   "source": [
    "print(tfi_model.score(tfidv_test_features, test_labels))\n",
    "evaluation_summary(\"LR TFIDF\", tfi_model.predict(tfidv_test_features), test_labels) "
   ]
  },
  {
   "cell_type": "markdown",
   "metadata": {
    "id": "uXJ0zj8Fyavc"
   },
   "source": [
    "\n",
    "\n",
    "**Changes** :\n",
    "Since TF-IDF vectorization method did not give good accuracy, I am using Countvectorization method"
   ]
  },
  {
   "cell_type": "code",
   "execution_count": 115,
   "metadata": {
    "colab": {
     "base_uri": "https://localhost:8080/"
    },
    "id": "4a0h8C5pyX_6",
    "outputId": "89e6d85c-39fa-4b74-fe3f-569fb570c511"
   },
   "outputs": [
    {
     "name": "stdout",
     "output_type": "stream",
     "text": [
      "0.7516886458668383\n",
      "Evaluation for: LR\n",
      "Classifier 'LR' has Acc=0.752 P=0.807 R=0.752 F1=0.771\n",
      "               precision    recall  f1-score   support\n",
      "\n",
      "     negative      0.233     0.588     0.333        85\n",
      "      neutral      0.902     0.768     0.830      2302\n",
      "     positive      0.588     0.720     0.648       690\n",
      "very negative      0.067     0.333     0.111         3\n",
      "very positive      0.274     0.690     0.392        29\n",
      "\n",
      "     accuracy                          0.752      3109\n",
      "    macro avg      0.413     0.620     0.463      3109\n",
      " weighted avg      0.807     0.752     0.771      3109\n",
      "\n",
      "\n",
      "Confusion matrix:\n",
      " [[  50  158    7    0    0]\n",
      " [  30 1769  156    2    4]\n",
      " [   3  340  497    0    5]\n",
      " [   2   12    0    1    0]\n",
      " [   0   23   30    0   20]]\n"
     ]
    },
    {
     "name": "stderr",
     "output_type": "stream",
     "text": [
      "/usr/local/lib/python3.7/dist-packages/sklearn/linear_model/_sag.py:330: ConvergenceWarning: The max_iter was reached which means the coef_ did not converge\n",
      "  \"the coef_ did not converge\", ConvergenceWarning)\n"
     ]
    }
   ],
   "source": [
    "lr = LogisticRegression(C=1,solver='saga', max_iter = 100)\n",
    "lr3 = lr.fit(train_features, train_labels)\n",
    "print(lr3.score(validation_features, validation_labels))\n",
    "evaluation_summary(\"LR\", lr3.predict(validation_features), validation_labels)"
   ]
  },
  {
   "cell_type": "code",
   "execution_count": 116,
   "metadata": {
    "colab": {
     "base_uri": "https://localhost:8080/"
    },
    "id": "4YfkPoOHkMGV",
    "outputId": "659321b5-112f-4c7b-a511-6c90aec21959"
   },
   "outputs": [
    {
     "name": "stdout",
     "output_type": "stream",
     "text": [
      "0.7470119521912351\n",
      "Evaluation for: LR\n",
      "Classifier 'LR' has Acc=0.747 P=0.799 R=0.747 F1=0.766\n",
      "               precision    recall  f1-score   support\n",
      "\n",
      "     negative      0.220     0.496     0.305       125\n",
      "      neutral      0.892     0.768     0.825      2919\n",
      "     positive      0.611     0.724     0.663       929\n",
      "very negative      0.062     1.000     0.118         2\n",
      "very positive      0.244     0.512     0.331        41\n",
      "\n",
      "     accuracy                          0.747      4016\n",
      "    macro avg      0.406     0.700     0.448      4016\n",
      " weighted avg      0.799     0.747     0.766      4016\n",
      "\n",
      "\n",
      "Confusion matrix:\n",
      " [[  62  214    6    0    0]\n",
      " [  55 2242  209    0    8]\n",
      " [   2  415  673    0   12]\n",
      " [   6   24    0    2    0]\n",
      " [   0   24   41    0   21]]\n"
     ]
    }
   ],
   "source": [
    "print(lr3.score(test_features, test_labels))\n",
    "evaluation_summary(\"LR\", lr3.predict(test_features), test_labels)"
   ]
  },
  {
   "cell_type": "markdown",
   "metadata": {
    "id": "FAdBzg2eZ852"
   },
   "source": [
    "**Change** : Instead of using multinomoial classes making it to binomial class will reduce computation time and provide higher accuracy"
   ]
  },
  {
   "cell_type": "code",
   "execution_count": 117,
   "metadata": {
    "id": "j2YXsqSSbI8J"
   },
   "outputs": [],
   "source": [
    "bi_train_data = train_data\n",
    "bi_validation_data = validation_data\n",
    "bi_test_data = test_data"
   ]
  },
  {
   "cell_type": "code",
   "execution_count": 118,
   "metadata": {
    "colab": {
     "base_uri": "https://localhost:8080/",
     "height": 589
    },
    "id": "tvYSwBu8kYDu",
    "outputId": "aa29645b-b2ca-40ba-e520-c42dfc849b7c"
   },
   "outputs": [
    {
     "data": {
      "text/html": [
       "<div>\n",
       "<style scoped>\n",
       "    .dataframe tbody tr th:only-of-type {\n",
       "        vertical-align: middle;\n",
       "    }\n",
       "\n",
       "    .dataframe tbody tr th {\n",
       "        vertical-align: top;\n",
       "    }\n",
       "\n",
       "    .dataframe thead th {\n",
       "        text-align: right;\n",
       "    }\n",
       "</style>\n",
       "<table border=\"1\" class=\"dataframe\">\n",
       "  <thead>\n",
       "    <tr style=\"text-align: right;\">\n",
       "      <th></th>\n",
       "      <th>subreddit</th>\n",
       "      <th>title</th>\n",
       "      <th>id</th>\n",
       "      <th>url</th>\n",
       "      <th>author</th>\n",
       "      <th>body</th>\n",
       "      <th>majority_type</th>\n",
       "      <th>is_first_post</th>\n",
       "      <th>post_depth</th>\n",
       "      <th>in_reply_to</th>\n",
       "      <th>sentiment.polarity</th>\n",
       "      <th>sentiment.subjectivity</th>\n",
       "    </tr>\n",
       "  </thead>\n",
       "  <tbody>\n",
       "    <tr>\n",
       "      <th>0</th>\n",
       "      <td>relationships</td>\n",
       "      <td>my friend/crush [22/f] acting weird after i [2...</td>\n",
       "      <td>t1_cy7f317</td>\n",
       "      <td>https://www.reddit.com/r/relationships/comment...</td>\n",
       "      <td>melodrama_</td>\n",
       "      <td>sad realization isn</td>\n",
       "      <td></td>\n",
       "      <td>false</td>\n",
       "      <td>2</td>\n",
       "      <td>t1_cy7erc5</td>\n",
       "      <td>negative</td>\n",
       "      <td>1.0</td>\n",
       "    </tr>\n",
       "    <tr>\n",
       "      <th>1</th>\n",
       "      <td>relationships</td>\n",
       "      <td>my friend/crush [22/f] acting weird after i [2...</td>\n",
       "      <td>t1_cy7hlyf</td>\n",
       "      <td>https://www.reddit.com/r/relationships/comment...</td>\n",
       "      <td>melodrama_</td>\n",
       "      <td>told her couple minutes ago that didn want con...</td>\n",
       "      <td>elaboration</td>\n",
       "      <td>false</td>\n",
       "      <td>2</td>\n",
       "      <td>t1_cy7erc5</td>\n",
       "      <td>neutral</td>\n",
       "      <td>0.48363095240000004</td>\n",
       "    </tr>\n",
       "    <tr>\n",
       "      <th>2</th>\n",
       "      <td>relationships</td>\n",
       "      <td>my friend/crush [22/f] acting weird after i [2...</td>\n",
       "      <td>t1_cy7etrr</td>\n",
       "      <td>https://www.reddit.com/r/relationships/comment...</td>\n",
       "      <td>treatyoselves</td>\n",
       "      <td>leeches don make good friends</td>\n",
       "      <td>answer</td>\n",
       "      <td>false</td>\n",
       "      <td>1</td>\n",
       "      <td>t3_3xshx9</td>\n",
       "      <td>positive</td>\n",
       "      <td>0.6000000000000001</td>\n",
       "    </tr>\n",
       "    <tr>\n",
       "      <th>3</th>\n",
       "      <td>relationships</td>\n",
       "      <td>my friend/crush [22/f] acting weird after i [2...</td>\n",
       "      <td>t1_cy7hhpq</td>\n",
       "      <td>https://www.reddit.com/r/relationships/comment...</td>\n",
       "      <td>melodrama_</td>\n",
       "      <td>just ended apparently she wasn good friend aft...</td>\n",
       "      <td>elaboration</td>\n",
       "      <td>false</td>\n",
       "      <td>2</td>\n",
       "      <td>t1_cy7etrr</td>\n",
       "      <td>positive</td>\n",
       "      <td>0.47500000000000003</td>\n",
       "    </tr>\n",
       "    <tr>\n",
       "      <th>4</th>\n",
       "      <td>relationships</td>\n",
       "      <td>my friend/crush [22/f] acting weird after i [2...</td>\n",
       "      <td>t1_cy7q0qg</td>\n",
       "      <td>https://www.reddit.com/r/relationships/comment...</td>\n",
       "      <td>treatyoselves</td>\n",
       "      <td>good for you make sure you stick with</td>\n",
       "      <td>appreciation</td>\n",
       "      <td>false</td>\n",
       "      <td>3</td>\n",
       "      <td>t1_cy7hhpq</td>\n",
       "      <td>positive</td>\n",
       "      <td>0.7444444444</td>\n",
       "    </tr>\n",
       "    <tr>\n",
       "      <th>...</th>\n",
       "      <td>...</td>\n",
       "      <td>...</td>\n",
       "      <td>...</td>\n",
       "      <td>...</td>\n",
       "      <td>...</td>\n",
       "      <td>...</td>\n",
       "      <td>...</td>\n",
       "      <td>...</td>\n",
       "      <td>...</td>\n",
       "      <td>...</td>\n",
       "      <td>...</td>\n",
       "      <td>...</td>\n",
       "    </tr>\n",
       "    <tr>\n",
       "      <th>12133</th>\n",
       "      <td>reddit.com</td>\n",
       "      <td>if i announced myself as god right now, would ...</td>\n",
       "      <td>t1_c1zpyd0</td>\n",
       "      <td>https://www.reddit.com/r/reddit.com/comments/h...</td>\n",
       "      <td></td>\n",
       "      <td>you were god you know whether would believe yo...</td>\n",
       "      <td>answer</td>\n",
       "      <td>false</td>\n",
       "      <td>1</td>\n",
       "      <td>t3_hzu51</td>\n",
       "      <td>neutral</td>\n",
       "      <td>0.0</td>\n",
       "    </tr>\n",
       "    <tr>\n",
       "      <th>12134</th>\n",
       "      <td>reddit.com</td>\n",
       "      <td>if i announced myself as god right now, would ...</td>\n",
       "      <td>t1_c1zpz7m</td>\n",
       "      <td>https://www.reddit.com/r/reddit.com/comments/h...</td>\n",
       "      <td>thecannon</td>\n",
       "      <td>check account balance minutes and over will be...</td>\n",
       "      <td>answer</td>\n",
       "      <td>false</td>\n",
       "      <td>1</td>\n",
       "      <td>t3_hzu51</td>\n",
       "      <td>neutral</td>\n",
       "      <td>0.0</td>\n",
       "    </tr>\n",
       "    <tr>\n",
       "      <th>12135</th>\n",
       "      <td>reddit.com</td>\n",
       "      <td>if i announced myself as god right now, would ...</td>\n",
       "      <td>t1_c1zq0tl</td>\n",
       "      <td>https://www.reddit.com/r/reddit.com/comments/h...</td>\n",
       "      <td>alllie</td>\n",
       "      <td>don know can you heal the sick with touch make...</td>\n",
       "      <td>answer</td>\n",
       "      <td>false</td>\n",
       "      <td>1</td>\n",
       "      <td>t3_hzu51</td>\n",
       "      <td>negative</td>\n",
       "      <td>0.637202381</td>\n",
       "    </tr>\n",
       "    <tr>\n",
       "      <th>12136</th>\n",
       "      <td>reddit.com</td>\n",
       "      <td>if i announced myself as god right now, would ...</td>\n",
       "      <td>t1_c1zq19j</td>\n",
       "      <td>https://www.reddit.com/r/reddit.com/comments/h...</td>\n",
       "      <td>thecannon</td>\n",
       "      <td>give lebron james championship ring</td>\n",
       "      <td>humor</td>\n",
       "      <td>false</td>\n",
       "      <td>2</td>\n",
       "      <td>t1_c1zq0tl</td>\n",
       "      <td>neutral</td>\n",
       "      <td>0.0</td>\n",
       "    </tr>\n",
       "    <tr>\n",
       "      <th>12137</th>\n",
       "      <td>reddit.com</td>\n",
       "      <td>if i announced myself as god right now, would ...</td>\n",
       "      <td>t1_c1zqg1w</td>\n",
       "      <td>https://www.reddit.com/r/reddit.com/comments/h...</td>\n",
       "      <td>blueiiiis</td>\n",
       "      <td>well you believed that one</td>\n",
       "      <td>answer</td>\n",
       "      <td>false</td>\n",
       "      <td>1</td>\n",
       "      <td>t3_hzu51</td>\n",
       "      <td>neutral</td>\n",
       "      <td>0.0</td>\n",
       "    </tr>\n",
       "  </tbody>\n",
       "</table>\n",
       "<p>12138 rows × 12 columns</p>\n",
       "</div>"
      ],
      "text/plain": [
       "           subreddit  ... sentiment.subjectivity\n",
       "0      relationships  ...                    1.0\n",
       "1      relationships  ...    0.48363095240000004\n",
       "2      relationships  ...     0.6000000000000001\n",
       "3      relationships  ...    0.47500000000000003\n",
       "4      relationships  ...           0.7444444444\n",
       "...              ...  ...                    ...\n",
       "12133     reddit.com  ...                    0.0\n",
       "12134     reddit.com  ...                    0.0\n",
       "12135     reddit.com  ...            0.637202381\n",
       "12136     reddit.com  ...                    0.0\n",
       "12137     reddit.com  ...                    0.0\n",
       "\n",
       "[12138 rows x 12 columns]"
      ]
     },
     "execution_count": 118,
     "metadata": {
      "tags": []
     },
     "output_type": "execute_result"
    }
   ],
   "source": [
    "bi_train_data"
   ]
  },
  {
   "cell_type": "code",
   "execution_count": 122,
   "metadata": {
    "id": "xJ7msUO8bca0"
   },
   "outputs": [],
   "source": [
    "bi_train_data['sentiment.polarity'] = bi_train_data['sentiment.polarity'].replace('positive',1)\n",
    "bi_train_data['sentiment.polarity'] = bi_train_data['sentiment.polarity'].replace('neutral',1)\n",
    "bi_train_data['sentiment.polarity'] = bi_train_data['sentiment.polarity'].replace('negative',0)\n",
    "bi_train_data['sentiment.polarity'] = bi_train_data['sentiment.polarity'].replace('very positive',1)\n",
    "bi_train_data['sentiment.polarity'] = bi_train_data['sentiment.polarity'].replace('very negative',0)\n"
   ]
  },
  {
   "cell_type": "code",
   "execution_count": 123,
   "metadata": {
    "id": "Q0LqzdS9bcMi"
   },
   "outputs": [],
   "source": [
    "bi_validation_data['sentiment.polarity'] = bi_validation_data['sentiment.polarity'].replace('positive',1)\n",
    "bi_validation_data['sentiment.polarity'] = bi_validation_data['sentiment.polarity'].replace('neutral',1)\n",
    "bi_validation_data['sentiment.polarity'] = bi_validation_data['sentiment.polarity'].replace('negative',0)\n",
    "bi_validation_data['sentiment.polarity'] = bi_validation_data['sentiment.polarity'].replace('very positive',1)\n",
    "bi_validation_data['sentiment.polarity'] = bi_validation_data['sentiment.polarity'].replace('very negative',0)\n"
   ]
  },
  {
   "cell_type": "code",
   "execution_count": 124,
   "metadata": {
    "id": "EXx0csPrXpqN"
   },
   "outputs": [],
   "source": [
    "bi_test_data['sentiment.polarity'] = bi_test_data['sentiment.polarity'].replace('positive',1)\n",
    "bi_test_data['sentiment.polarity'] = bi_test_data['sentiment.polarity'].replace('neutral',1)\n",
    "bi_test_data['sentiment.polarity'] = bi_test_data['sentiment.polarity'].replace('negative',0)\n",
    "bi_test_data['sentiment.polarity'] = bi_test_data['sentiment.polarity'].replace('very positive',1)\n",
    "bi_test_data['sentiment.polarity'] = bi_test_data['sentiment.polarity'].replace('very negative',0)\n"
   ]
  },
  {
   "cell_type": "code",
   "execution_count": 125,
   "metadata": {
    "colab": {
     "base_uri": "https://localhost:8080/",
     "height": 289
    },
    "id": "s1CEbOiBaeko",
    "outputId": "aeedb1ef-7065-413c-ce81-8824ca8f7e67"
   },
   "outputs": [
    {
     "data": {
      "text/html": [
       "<div>\n",
       "<style scoped>\n",
       "    .dataframe tbody tr th:only-of-type {\n",
       "        vertical-align: middle;\n",
       "    }\n",
       "\n",
       "    .dataframe tbody tr th {\n",
       "        vertical-align: top;\n",
       "    }\n",
       "\n",
       "    .dataframe thead th {\n",
       "        text-align: right;\n",
       "    }\n",
       "</style>\n",
       "<table border=\"1\" class=\"dataframe\">\n",
       "  <thead>\n",
       "    <tr style=\"text-align: right;\">\n",
       "      <th></th>\n",
       "      <th>subreddit</th>\n",
       "      <th>title</th>\n",
       "      <th>id</th>\n",
       "      <th>url</th>\n",
       "      <th>author</th>\n",
       "      <th>body</th>\n",
       "      <th>majority_type</th>\n",
       "      <th>is_first_post</th>\n",
       "      <th>post_depth</th>\n",
       "      <th>in_reply_to</th>\n",
       "      <th>sentiment.polarity</th>\n",
       "      <th>sentiment.subjectivity</th>\n",
       "    </tr>\n",
       "  </thead>\n",
       "  <tbody>\n",
       "    <tr>\n",
       "      <th>0</th>\n",
       "      <td>starcraft</td>\n",
       "      <td>just a reminder on how much sc2 has evolved th...</td>\n",
       "      <td>t3_mqxoi</td>\n",
       "      <td>https://www.reddit.com/r/starcraft/comments/mq...</td>\n",
       "      <td>meisterkarl</td>\n",
       "      <td>was watching vod from last years dreamhack win...</td>\n",
       "      <td>question</td>\n",
       "      <td>true</td>\n",
       "      <td>0</td>\n",
       "      <td></td>\n",
       "      <td>1</td>\n",
       "      <td>0.35000000000000003</td>\n",
       "    </tr>\n",
       "    <tr>\n",
       "      <th>1</th>\n",
       "      <td>starcraft</td>\n",
       "      <td>just a reminder on how much sc2 has evolved th...</td>\n",
       "      <td>t1_c334scx</td>\n",
       "      <td>https://www.reddit.com/r/starcraft/comments/mq...</td>\n",
       "      <td>smsy</td>\n",
       "      <td>find cool that both mana and naama made the th...</td>\n",
       "      <td>answer</td>\n",
       "      <td>false</td>\n",
       "      <td>1</td>\n",
       "      <td>t3_mqxoi</td>\n",
       "      <td>1</td>\n",
       "      <td>0.65</td>\n",
       "    </tr>\n",
       "    <tr>\n",
       "      <th>2</th>\n",
       "      <td>starcraft</td>\n",
       "      <td>just a reminder on how much sc2 has evolved th...</td>\n",
       "      <td>t1_c3354ny</td>\n",
       "      <td>https://www.reddit.com/r/starcraft/comments/mq...</td>\n",
       "      <td>vehemus</td>\n",
       "      <td>even better watch vod from mlg raleigh http ma...</td>\n",
       "      <td>agreement</td>\n",
       "      <td>false</td>\n",
       "      <td>1</td>\n",
       "      <td>t3_mqxoi</td>\n",
       "      <td>1</td>\n",
       "      <td>0.8</td>\n",
       "    </tr>\n",
       "    <tr>\n",
       "      <th>3</th>\n",
       "      <td>starcraft</td>\n",
       "      <td>just a reminder on how much sc2 has evolved th...</td>\n",
       "      <td>t1_c3356y6</td>\n",
       "      <td>https://www.reddit.com/r/starcraft/comments/mq...</td>\n",
       "      <td>nrujac</td>\n",
       "      <td>wasn that also epic and awesome series remembe...</td>\n",
       "      <td></td>\n",
       "      <td>false</td>\n",
       "      <td>1</td>\n",
       "      <td>t3_mqxoi</td>\n",
       "      <td>1</td>\n",
       "      <td>0.5666666667</td>\n",
       "    </tr>\n",
       "    <tr>\n",
       "      <th>4</th>\n",
       "      <td>whowouldwin</td>\n",
       "      <td>your favorite hero now has a healing factor as...</td>\n",
       "      <td>t3_2ltpbr</td>\n",
       "      <td>https://www.reddit.com/r/whowouldwin/comments/...</td>\n",
       "      <td></td>\n",
       "      <td>basically what the title says</td>\n",
       "      <td>question</td>\n",
       "      <td>true</td>\n",
       "      <td>0</td>\n",
       "      <td></td>\n",
       "      <td>1</td>\n",
       "      <td>0.0</td>\n",
       "    </tr>\n",
       "  </tbody>\n",
       "</table>\n",
       "</div>"
      ],
      "text/plain": [
       "     subreddit  ... sentiment.subjectivity\n",
       "0    starcraft  ...    0.35000000000000003\n",
       "1    starcraft  ...                   0.65\n",
       "2    starcraft  ...                    0.8\n",
       "3    starcraft  ...           0.5666666667\n",
       "4  whowouldwin  ...                    0.0\n",
       "\n",
       "[5 rows x 12 columns]"
      ]
     },
     "execution_count": 125,
     "metadata": {
      "tags": []
     },
     "output_type": "execute_result"
    }
   ],
   "source": [
    "bi_test_data.head()"
   ]
  },
  {
   "cell_type": "code",
   "execution_count": 129,
   "metadata": {
    "id": "-OK22p1Ba5U7"
   },
   "outputs": [],
   "source": [
    "one_hot_vectorizer = CountVectorizer(tokenizer=tokenize_normalize, binary=True)\n",
    "\n",
    "bi_train_data = bi_train_data[['body','sentiment.polarity']]\n",
    "bi_validation_data = bi_validation_data[['body','sentiment.polarity']]\n",
    "bi_test_data = bi_test_data[['body','sentiment.polarity']]"
   ]
  },
  {
   "cell_type": "code",
   "execution_count": 131,
   "metadata": {
    "id": "gnXfZ54ZmaYa"
   },
   "outputs": [],
   "source": [
    "\n",
    "bi_train_features = one_hot_vectorizer.fit_transform(bi_train_data['body'])\n",
    "bi_validation_features = one_hot_vectorizer.fit_transform(bi_validation_data['body'])\n",
    "bi_test_features = one_hot_vectorizer.fit_transform(bi_test_data['body'])"
   ]
  },
  {
   "cell_type": "code",
   "execution_count": 132,
   "metadata": {
    "id": "IsDfa5HNciJe"
   },
   "outputs": [],
   "source": [
    "bi_train_labels = bi_train_data['sentiment.polarity']\n",
    "bi_test_labels = bi_test_data['sentiment.polarity']\n",
    "bi_validation_labels = bi_validation_data['sentiment.polarity']"
   ]
  },
  {
   "cell_type": "code",
   "execution_count": 141,
   "metadata": {
    "colab": {
     "base_uri": "https://localhost:8080/"
    },
    "id": "KE-dDEtNh1r8",
    "outputId": "fe1b4e9e-229c-44d2-e07a-e03c37b017df"
   },
   "outputs": [
    {
     "name": "stdout",
     "output_type": "stream",
     "text": [
      "0.9366355741395948\n",
      "Evaluation for: LR\n",
      "Classifier 'LR' has Acc=0.937 P=0.971 R=0.937 F1=0.950\n",
      "              precision    recall  f1-score   support\n",
      "\n",
      "           0      0.257     0.694     0.375        85\n",
      "           1      0.991     0.943     0.967      3024\n",
      "\n",
      "    accuracy                          0.937      3109\n",
      "   macro avg      0.624     0.819     0.671      3109\n",
      "weighted avg      0.971     0.937     0.950      3109\n",
      "\n",
      "\n",
      "Confusion matrix:\n",
      " [[  59  171]\n",
      " [  26 2853]]\n"
     ]
    },
    {
     "name": "stderr",
     "output_type": "stream",
     "text": [
      "/usr/local/lib/python3.7/dist-packages/sklearn/linear_model/_sag.py:330: ConvergenceWarning: The max_iter was reached which means the coef_ did not converge\n",
      "  \"the coef_ did not converge\", ConvergenceWarning)\n"
     ]
    }
   ],
   "source": [
    "lr = LogisticRegression(C=1,solver='saga')\n",
    "lr4 = lr.fit(bi_train_features, bi_train_labels)\n",
    "print(lr4.score(validation_features, bi_validation_labels))\n",
    "evaluation_summary(\"LR\", lr.predict(validation_features), bi_validation_labels)"
   ]
  },
  {
   "cell_type": "code",
   "execution_count": null,
   "metadata": {
    "id": "Xw9m1CxiiQQy"
   },
   "outputs": [],
   "source": [
    "  print(lr4.score(bi_test_features, bi_test_labels))\n",
    "evaluation_summary(\"LR\", lr4.predict(bi_test_features), bi_test_labels)"
   ]
  },
  {
   "cell_type": "markdown",
   "metadata": {
    "id": "Z94o5Hp3mwWB"
   },
   "source": [
    "One more possibility or change which we can do is create a pipeline and predict with that"
   ]
  },
  {
   "cell_type": "code",
   "execution_count": 2,
   "metadata": {
    "id": "Q__E-_G1mvh3"
   },
   "outputs": [
    {
     "ename": "NameError",
     "evalue": "name 'ItemSelector' is not defined",
     "output_type": "error",
     "traceback": [
      "\u001b[1;31m---------------------------------------------------------------------------\u001b[0m",
      "\u001b[1;31mNameError\u001b[0m                                 Traceback (most recent call last)",
      "\u001b[1;32m<ipython-input-2-55446c496b25>\u001b[0m in \u001b[0;36m<module>\u001b[1;34m\u001b[0m\n\u001b[0;32m      8\u001b[0m           transformer_list=[\n\u001b[0;32m      9\u001b[0m             ('text', Pipeline([\n\u001b[1;32m---> 10\u001b[1;33m               \u001b[1;33m(\u001b[0m\u001b[1;34m'selector'\u001b[0m\u001b[1;33m,\u001b[0m \u001b[0mItemSelector\u001b[0m\u001b[1;33m(\u001b[0m\u001b[0mkey\u001b[0m\u001b[1;33m=\u001b[0m\u001b[1;34m'body'\u001b[0m\u001b[1;33m)\u001b[0m\u001b[1;33m)\u001b[0m\u001b[1;33m,\u001b[0m\u001b[1;33m\u001b[0m\u001b[1;33m\u001b[0m\u001b[0m\n\u001b[0m\u001b[0;32m     11\u001b[0m               \u001b[1;33m(\u001b[0m\u001b[1;34m'one-hot'\u001b[0m\u001b[1;33m,\u001b[0m \u001b[0mCountVectorizer\u001b[0m\u001b[1;33m(\u001b[0m \u001b[0mbinary\u001b[0m\u001b[1;33m=\u001b[0m\u001b[1;32mTrue\u001b[0m\u001b[1;33m)\u001b[0m\u001b[1;33m)\u001b[0m\u001b[1;33m,\u001b[0m\u001b[1;33m\u001b[0m\u001b[1;33m\u001b[0m\u001b[0m\n\u001b[0;32m     12\u001b[0m               ])),\n",
      "\u001b[1;31mNameError\u001b[0m: name 'ItemSelector' is not defined"
     ]
    }
   ],
   "source": [
    "from sklearn.pipeline import FeatureUnion\n",
    "from sklearn.pipeline import Pipeline\n",
    "from sklearn.feature_extraction.text import CountVectorizer\n",
    "\n",
    "# Use FeatureUnion to combine the features from text and summary\n",
    "prediction_pipeline = Pipeline([\n",
    "        ('union', FeatureUnion(\n",
    "          transformer_list=[\n",
    "            ('text', Pipeline([\n",
    "              ('selector', ItemSelector(key='body')),\n",
    "              ('one-hot', CountVectorizer( binary=True)), \n",
    "              ])),\n",
    "            ('majority', Pipeline([\n",
    "              ('selector', ItemSelector(key='majority_type')),\n",
    "              ('one-hot', CountVectorizer( binary=True)), \n",
    "              ])),\n",
    "        ])\n",
    "        )\n",
    "    ])"
   ]
  },
  {
   "cell_type": "code",
   "execution_count": null,
   "metadata": {
    "id": "odFHgNO7q3RX"
   },
   "outputs": [],
   "source": [
    "one_hot_train_features = prediction_pipeline.fit_transform(train_data)\n",
    "one_hot_validation_features = prediction_pipeline.transform(validation_data)\n",
    "one_hot_test_features = prediction_pipeline.transform(test_data)"
   ]
  },
  {
   "cell_type": "code",
   "execution_count": null,
   "metadata": {
    "id": "eG8-ITU7q5tt"
   },
   "outputs": [],
   "source": [
    "lr = LogisticRegression(solver='saga')\n",
    "combined_model = lr.fit(one_hot_train_features,train_labels)\n",
    "evaluation_summary(\"LR\", lr.predict(one_hot_validation_features), validation_labels)"
   ]
  }
 ],
 "metadata": {
  "colab": {
   "name": "Untitled4.ipynb",
   "provenance": []
  },
  "kernelspec": {
   "display_name": "Python 3",
   "language": "python",
   "name": "python3"
  },
  "language_info": {
   "codemirror_mode": {
    "name": "ipython",
    "version": 3
   },
   "file_extension": ".py",
   "mimetype": "text/x-python",
   "name": "python",
   "nbconvert_exporter": "python",
   "pygments_lexer": "ipython3",
   "version": "3.7.6"
  }
 },
 "nbformat": 4,
 "nbformat_minor": 1
}
